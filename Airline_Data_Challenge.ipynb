{
  "cells": [
    {
      "cell_type": "markdown",
      "source": [
        "# Part 1 - Import libraries and datasets"
      ],
      "metadata": {
        "id": "I6YrZBlXM2UW"
      }
    },
    {
      "cell_type": "code",
      "source": [
        "import pandas as pd\n",
        "import dask.dataframe as dd\n",
        "import numpy as np\n",
        "import seaborn as sb\n",
        "import matplotlib.pyplot as plt\n",
        "\n",
        "pd.options.display.float_format = '{:.2f}'.format"
      ],
      "metadata": {
        "id": "1dhhrbpsM4bz"
      },
      "execution_count": 294,
      "outputs": []
    },
    {
      "cell_type": "code",
      "source": [
        "'''Load the dataset. This function can be further modified depending upon if we\n",
        "  need to perform operations on our dataframes'''\n",
        "  \n",
        "def read_dataset(file_path):\n",
        "  return pd.read_csv(file_path)"
      ],
      "metadata": {
        "id": "IsuWQRAoY-My"
      },
      "execution_count": 128,
      "outputs": []
    },
    {
      "cell_type": "code",
      "source": [
        "df_flights = read_dataset('Flights.csv')\n",
        "df_tickets = read_dataset('Tickets.csv')\n",
        "df_airports = read_dataset('Airport_Codes.csv')"
      ],
      "metadata": {
        "colab": {
          "base_uri": "https://localhost:8080/"
        },
        "id": "_DRZyVCwaGgs",
        "outputId": "622ad5aa-090a-4c0c-cf2d-207b53a16a0c"
      },
      "execution_count": 249,
      "outputs": [
        {
          "output_type": "stream",
          "name": "stderr",
          "text": [
            "<ipython-input-249-abc14da1a676>:1: DtypeWarning: Columns (3,13,14) have mixed types.Specify dtype option on import or set low_memory=False.\n",
            "  df_flights = read_dataset('Flights.csv')\n"
          ]
        }
      ]
    },
    {
      "cell_type": "markdown",
      "source": [
        "# Part 2  - Quality Check"
      ],
      "metadata": {
        "id": "gQqMVxD_Z_X3"
      }
    },
    {
      "cell_type": "markdown",
      "source": [
        "AIRPORTS DATA"
      ],
      "metadata": {
        "id": "AvhBpqu5Daz0"
      }
    },
    {
      "cell_type": "code",
      "source": [
        "df_airports.shape"
      ],
      "metadata": {
        "colab": {
          "base_uri": "https://localhost:8080/"
        },
        "id": "fNYFeoyxDeq6",
        "outputId": "3b2a6bc5-402f-4d97-d1d1-50eb448d4c05"
      },
      "execution_count": 250,
      "outputs": [
        {
          "output_type": "execute_result",
          "data": {
            "text/plain": [
              "(55369, 8)"
            ]
          },
          "metadata": {},
          "execution_count": 250
        }
      ]
    },
    {
      "cell_type": "code",
      "source": [
        "df_airports.head(5)"
      ],
      "metadata": {
        "colab": {
          "base_uri": "https://localhost:8080/",
          "height": 299
        },
        "id": "WmWynhbIDoFR",
        "outputId": "9a8b551f-59bd-4741-c01e-34be1aa9a744"
      },
      "execution_count": 251,
      "outputs": [
        {
          "output_type": "execute_result",
          "data": {
            "text/plain": [
              "            TYPE                                NAME  ELEVATION_FT CONTINENT  \\\n",
              "0       heliport                   Total Rf Heliport         11.00       NaN   \n",
              "1  small_airport                Aero B Ranch Airport       3435.00       NaN   \n",
              "2  small_airport                        Lowell Field        450.00       NaN   \n",
              "3  small_airport                        Epps Airpark        820.00       NaN   \n",
              "4         closed  Newport Hospital & Clinic Heliport        237.00       NaN   \n",
              "\n",
              "  ISO_COUNTRY  MUNICIPALITY IATA_CODE                            COORDINATES  \n",
              "0          US      Bensalem       NaN     -74.93360137939453, 40.07080078125  \n",
              "1          US         Leoti       NaN                 -101.473911, 38.704022  \n",
              "2          US  Anchor Point       NaN            -151.695999146, 59.94919968  \n",
              "3          US       Harvest       NaN  -86.77030181884766, 34.86479949951172  \n",
              "4          US       Newport       NaN                    -91.254898, 35.6087  "
            ],
            "text/html": [
              "\n",
              "  <div id=\"df-2035fdbb-21e8-4daf-ac11-d1bf4abbcd9c\">\n",
              "    <div class=\"colab-df-container\">\n",
              "      <div>\n",
              "<style scoped>\n",
              "    .dataframe tbody tr th:only-of-type {\n",
              "        vertical-align: middle;\n",
              "    }\n",
              "\n",
              "    .dataframe tbody tr th {\n",
              "        vertical-align: top;\n",
              "    }\n",
              "\n",
              "    .dataframe thead th {\n",
              "        text-align: right;\n",
              "    }\n",
              "</style>\n",
              "<table border=\"1\" class=\"dataframe\">\n",
              "  <thead>\n",
              "    <tr style=\"text-align: right;\">\n",
              "      <th></th>\n",
              "      <th>TYPE</th>\n",
              "      <th>NAME</th>\n",
              "      <th>ELEVATION_FT</th>\n",
              "      <th>CONTINENT</th>\n",
              "      <th>ISO_COUNTRY</th>\n",
              "      <th>MUNICIPALITY</th>\n",
              "      <th>IATA_CODE</th>\n",
              "      <th>COORDINATES</th>\n",
              "    </tr>\n",
              "  </thead>\n",
              "  <tbody>\n",
              "    <tr>\n",
              "      <th>0</th>\n",
              "      <td>heliport</td>\n",
              "      <td>Total Rf Heliport</td>\n",
              "      <td>11.00</td>\n",
              "      <td>NaN</td>\n",
              "      <td>US</td>\n",
              "      <td>Bensalem</td>\n",
              "      <td>NaN</td>\n",
              "      <td>-74.93360137939453, 40.07080078125</td>\n",
              "    </tr>\n",
              "    <tr>\n",
              "      <th>1</th>\n",
              "      <td>small_airport</td>\n",
              "      <td>Aero B Ranch Airport</td>\n",
              "      <td>3435.00</td>\n",
              "      <td>NaN</td>\n",
              "      <td>US</td>\n",
              "      <td>Leoti</td>\n",
              "      <td>NaN</td>\n",
              "      <td>-101.473911, 38.704022</td>\n",
              "    </tr>\n",
              "    <tr>\n",
              "      <th>2</th>\n",
              "      <td>small_airport</td>\n",
              "      <td>Lowell Field</td>\n",
              "      <td>450.00</td>\n",
              "      <td>NaN</td>\n",
              "      <td>US</td>\n",
              "      <td>Anchor Point</td>\n",
              "      <td>NaN</td>\n",
              "      <td>-151.695999146, 59.94919968</td>\n",
              "    </tr>\n",
              "    <tr>\n",
              "      <th>3</th>\n",
              "      <td>small_airport</td>\n",
              "      <td>Epps Airpark</td>\n",
              "      <td>820.00</td>\n",
              "      <td>NaN</td>\n",
              "      <td>US</td>\n",
              "      <td>Harvest</td>\n",
              "      <td>NaN</td>\n",
              "      <td>-86.77030181884766, 34.86479949951172</td>\n",
              "    </tr>\n",
              "    <tr>\n",
              "      <th>4</th>\n",
              "      <td>closed</td>\n",
              "      <td>Newport Hospital &amp; Clinic Heliport</td>\n",
              "      <td>237.00</td>\n",
              "      <td>NaN</td>\n",
              "      <td>US</td>\n",
              "      <td>Newport</td>\n",
              "      <td>NaN</td>\n",
              "      <td>-91.254898, 35.6087</td>\n",
              "    </tr>\n",
              "  </tbody>\n",
              "</table>\n",
              "</div>\n",
              "      <button class=\"colab-df-convert\" onclick=\"convertToInteractive('df-2035fdbb-21e8-4daf-ac11-d1bf4abbcd9c')\"\n",
              "              title=\"Convert this dataframe to an interactive table.\"\n",
              "              style=\"display:none;\">\n",
              "        \n",
              "  <svg xmlns=\"http://www.w3.org/2000/svg\" height=\"24px\"viewBox=\"0 0 24 24\"\n",
              "       width=\"24px\">\n",
              "    <path d=\"M0 0h24v24H0V0z\" fill=\"none\"/>\n",
              "    <path d=\"M18.56 5.44l.94 2.06.94-2.06 2.06-.94-2.06-.94-.94-2.06-.94 2.06-2.06.94zm-11 1L8.5 8.5l.94-2.06 2.06-.94-2.06-.94L8.5 2.5l-.94 2.06-2.06.94zm10 10l.94 2.06.94-2.06 2.06-.94-2.06-.94-.94-2.06-.94 2.06-2.06.94z\"/><path d=\"M17.41 7.96l-1.37-1.37c-.4-.4-.92-.59-1.43-.59-.52 0-1.04.2-1.43.59L10.3 9.45l-7.72 7.72c-.78.78-.78 2.05 0 2.83L4 21.41c.39.39.9.59 1.41.59.51 0 1.02-.2 1.41-.59l7.78-7.78 2.81-2.81c.8-.78.8-2.07 0-2.86zM5.41 20L4 18.59l7.72-7.72 1.47 1.35L5.41 20z\"/>\n",
              "  </svg>\n",
              "      </button>\n",
              "      \n",
              "  <style>\n",
              "    .colab-df-container {\n",
              "      display:flex;\n",
              "      flex-wrap:wrap;\n",
              "      gap: 12px;\n",
              "    }\n",
              "\n",
              "    .colab-df-convert {\n",
              "      background-color: #E8F0FE;\n",
              "      border: none;\n",
              "      border-radius: 50%;\n",
              "      cursor: pointer;\n",
              "      display: none;\n",
              "      fill: #1967D2;\n",
              "      height: 32px;\n",
              "      padding: 0 0 0 0;\n",
              "      width: 32px;\n",
              "    }\n",
              "\n",
              "    .colab-df-convert:hover {\n",
              "      background-color: #E2EBFA;\n",
              "      box-shadow: 0px 1px 2px rgba(60, 64, 67, 0.3), 0px 1px 3px 1px rgba(60, 64, 67, 0.15);\n",
              "      fill: #174EA6;\n",
              "    }\n",
              "\n",
              "    [theme=dark] .colab-df-convert {\n",
              "      background-color: #3B4455;\n",
              "      fill: #D2E3FC;\n",
              "    }\n",
              "\n",
              "    [theme=dark] .colab-df-convert:hover {\n",
              "      background-color: #434B5C;\n",
              "      box-shadow: 0px 1px 3px 1px rgba(0, 0, 0, 0.15);\n",
              "      filter: drop-shadow(0px 1px 2px rgba(0, 0, 0, 0.3));\n",
              "      fill: #FFFFFF;\n",
              "    }\n",
              "  </style>\n",
              "\n",
              "      <script>\n",
              "        const buttonEl =\n",
              "          document.querySelector('#df-2035fdbb-21e8-4daf-ac11-d1bf4abbcd9c button.colab-df-convert');\n",
              "        buttonEl.style.display =\n",
              "          google.colab.kernel.accessAllowed ? 'block' : 'none';\n",
              "\n",
              "        async function convertToInteractive(key) {\n",
              "          const element = document.querySelector('#df-2035fdbb-21e8-4daf-ac11-d1bf4abbcd9c');\n",
              "          const dataTable =\n",
              "            await google.colab.kernel.invokeFunction('convertToInteractive',\n",
              "                                                     [key], {});\n",
              "          if (!dataTable) return;\n",
              "\n",
              "          const docLinkHtml = 'Like what you see? Visit the ' +\n",
              "            '<a target=\"_blank\" href=https://colab.research.google.com/notebooks/data_table.ipynb>data table notebook</a>'\n",
              "            + ' to learn more about interactive tables.';\n",
              "          element.innerHTML = '';\n",
              "          dataTable['output_type'] = 'display_data';\n",
              "          await google.colab.output.renderOutput(dataTable, element);\n",
              "          const docLink = document.createElement('div');\n",
              "          docLink.innerHTML = docLinkHtml;\n",
              "          element.appendChild(docLink);\n",
              "        }\n",
              "      </script>\n",
              "    </div>\n",
              "  </div>\n",
              "  "
            ]
          },
          "metadata": {},
          "execution_count": 251
        }
      ]
    },
    {
      "cell_type": "code",
      "source": [
        "df_airports['TYPE'].value_counts()"
      ],
      "metadata": {
        "colab": {
          "base_uri": "https://localhost:8080/"
        },
        "id": "Be-IBFd8DsZ7",
        "outputId": "260a3869-d8eb-4f26-8f9b-75fad51c9408"
      },
      "execution_count": 252,
      "outputs": [
        {
          "output_type": "execute_result",
          "data": {
            "text/plain": [
              "small_airport     34120\n",
              "heliport          11384\n",
              "medium_airport     4532\n",
              "closed             3680\n",
              "seaplane_base      1016\n",
              "large_airport       614\n",
              "balloonport          23\n",
              "Name: TYPE, dtype: int64"
            ]
          },
          "metadata": {},
          "execution_count": 252
        }
      ]
    },
    {
      "cell_type": "code",
      "source": [
        "df_airports.isna().sum()"
      ],
      "metadata": {
        "colab": {
          "base_uri": "https://localhost:8080/"
        },
        "id": "CrKLvjceE5jR",
        "outputId": "32723ee3-327c-4567-bd35-2f4e5398bb6f"
      },
      "execution_count": 253,
      "outputs": [
        {
          "output_type": "execute_result",
          "data": {
            "text/plain": [
              "TYPE                0\n",
              "NAME                0\n",
              "ELEVATION_FT     7015\n",
              "CONTINENT       27843\n",
              "ISO_COUNTRY       247\n",
              "MUNICIPALITY     5706\n",
              "IATA_CODE       46187\n",
              "COORDINATES         0\n",
              "dtype: int64"
            ]
          },
          "metadata": {},
          "execution_count": 253
        }
      ]
    },
    {
      "cell_type": "code",
      "source": [
        "''' airport codes data helper function ''' \n",
        "\n",
        "def airport_code_helper(df_airports):\n",
        "\n",
        "  # remove the null values in IATA_CODE column\n",
        "  df_airports = df_airports.dropna(subset = ['IATA_CODE'])\n",
        "\n",
        "\n",
        "  # Limit to only medium and large airports\n",
        "  airport_types = ['medium_airport', 'large_airport']\n",
        "  df_airports_rev = df_airports[df_airports['TYPE'].isin(airport_types)]\n",
        "\n",
        "\n",
        "  return df_airports_rev\n",
        "  "
      ],
      "metadata": {
        "id": "-6nhE75FD14T"
      },
      "execution_count": 254,
      "outputs": []
    },
    {
      "cell_type": "code",
      "source": [
        "''' airports dataframe to use '''\n",
        "\n",
        "df_airports_rev = airport_code_helper(df_airports)"
      ],
      "metadata": {
        "id": "FDEpLGeTFLoV"
      },
      "execution_count": 255,
      "outputs": []
    },
    {
      "cell_type": "code",
      "source": [
        "df_airports_rev.shape"
      ],
      "metadata": {
        "colab": {
          "base_uri": "https://localhost:8080/"
        },
        "id": "OKJF2drxFQ1o",
        "outputId": "0ab5ec13-1187-4f7f-ebe5-ff39c1cb50ea"
      },
      "execution_count": 256,
      "outputs": [
        {
          "output_type": "execute_result",
          "data": {
            "text/plain": [
              "(4459, 8)"
            ]
          },
          "metadata": {},
          "execution_count": 256
        }
      ]
    },
    {
      "cell_type": "markdown",
      "source": [
        "FLIGHTS DATA"
      ],
      "metadata": {
        "id": "5wAZwmp_Dc1u"
      }
    },
    {
      "cell_type": "code",
      "execution_count": 257,
      "metadata": {
        "colab": {
          "base_uri": "https://localhost:8080/"
        },
        "id": "5L91g4EGJomI",
        "outputId": "1dd52a29-314b-4f7b-b3da-4577136962c8"
      },
      "outputs": [
        {
          "output_type": "execute_result",
          "data": {
            "text/plain": [
              "(1915886, 16)"
            ]
          },
          "metadata": {},
          "execution_count": 257
        }
      ],
      "source": [
        "df_flights.shape"
      ]
    },
    {
      "cell_type": "code",
      "source": [
        "df_flights.info()"
      ],
      "metadata": {
        "colab": {
          "base_uri": "https://localhost:8080/"
        },
        "id": "5CRSr3DJYu1S",
        "outputId": "7f977327-ee8e-4e8a-ca0b-bdaed09f2385"
      },
      "execution_count": 258,
      "outputs": [
        {
          "output_type": "stream",
          "name": "stdout",
          "text": [
            "<class 'pandas.core.frame.DataFrame'>\n",
            "RangeIndex: 1915886 entries, 0 to 1915885\n",
            "Data columns (total 16 columns):\n",
            " #   Column             Dtype  \n",
            "---  ------             -----  \n",
            " 0   FL_DATE            object \n",
            " 1   OP_CARRIER         object \n",
            " 2   TAIL_NUM           object \n",
            " 3   OP_CARRIER_FL_NUM  object \n",
            " 4   ORIGIN_AIRPORT_ID  int64  \n",
            " 5   ORIGIN             object \n",
            " 6   ORIGIN_CITY_NAME   object \n",
            " 7   DEST_AIRPORT_ID    int64  \n",
            " 8   DESTINATION        object \n",
            " 9   DEST_CITY_NAME     object \n",
            " 10  DEP_DELAY          float64\n",
            " 11  ARR_DELAY          float64\n",
            " 12  CANCELLED          float64\n",
            " 13  AIR_TIME           object \n",
            " 14  DISTANCE           object \n",
            " 15  OCCUPANCY_RATE     float64\n",
            "dtypes: float64(4), int64(2), object(10)\n",
            "memory usage: 233.9+ MB\n"
          ]
        }
      ]
    },
    {
      "cell_type": "code",
      "execution_count": 259,
      "metadata": {
        "colab": {
          "base_uri": "https://localhost:8080/"
        },
        "id": "VHUJ5VpjGGjH",
        "outputId": "01e5b593-b477-473e-bab1-789522a4118c"
      },
      "outputs": [
        {
          "output_type": "execute_result",
          "data": {
            "text/plain": [
              "$$$    1890\n",
              "Two      10\n",
              "NAN      10\n",
              "Name: AIR_TIME, dtype: int64"
            ]
          },
          "metadata": {},
          "execution_count": 259
        }
      ],
      "source": [
        "df_flights[pd.to_numeric(df_flights['AIR_TIME'], errors='coerce').isnull()]['AIR_TIME'].value_counts()"
      ]
    },
    {
      "cell_type": "code",
      "execution_count": 260,
      "metadata": {
        "colab": {
          "base_uri": "https://localhost:8080/"
        },
        "id": "k9v_PIpoLdnb",
        "outputId": "d55dccc4-4c15-4965-90cc-6e1ba0901f36"
      },
      "outputs": [
        {
          "output_type": "execute_result",
          "data": {
            "text/plain": [
              "****       2070\n",
              "NAN          20\n",
              "Hundred      10\n",
              "Twenty       10\n",
              "Name: DISTANCE, dtype: int64"
            ]
          },
          "metadata": {},
          "execution_count": 260
        }
      ],
      "source": [
        "df_flights[pd.to_numeric(df_flights['DISTANCE'], errors='coerce').isnull()]['DISTANCE'].value_counts()"
      ]
    },
    {
      "cell_type": "code",
      "execution_count": 261,
      "metadata": {
        "colab": {
          "base_uri": "https://localhost:8080/"
        },
        "id": "WhmzKN2fL1Q-",
        "outputId": "632683e2-eac6-45e6-eff0-5fbf3a6d1c06"
      },
      "outputs": [
        {
          "output_type": "execute_result",
          "data": {
            "text/plain": [
              "Series([], Name: DEP_DELAY, dtype: int64)"
            ]
          },
          "metadata": {},
          "execution_count": 261
        }
      ],
      "source": [
        "df_flights[pd.to_numeric(df_flights['DEP_DELAY'], errors='coerce').isnull()]['DEP_DELAY'].value_counts()"
      ]
    },
    {
      "cell_type": "code",
      "execution_count": 262,
      "metadata": {
        "colab": {
          "base_uri": "https://localhost:8080/"
        },
        "id": "FCx1bBdyIoF1",
        "outputId": "9a9f5298-ce29-4442-e39f-00f457a0e5c6"
      },
      "outputs": [
        {
          "output_type": "execute_result",
          "data": {
            "text/plain": [
              "FL_DATE                  0\n",
              "OP_CARRIER               0\n",
              "TAIL_NUM             12156\n",
              "OP_CARRIER_FL_NUM        0\n",
              "ORIGIN_AIRPORT_ID        0\n",
              "ORIGIN                   0\n",
              "ORIGIN_CITY_NAME         0\n",
              "DEST_AIRPORT_ID          0\n",
              "DESTINATION              0\n",
              "DEST_CITY_NAME           0\n",
              "DEP_DELAY            50351\n",
              "ARR_DELAY            55991\n",
              "CANCELLED                0\n",
              "AIR_TIME             56551\n",
              "DISTANCE               630\n",
              "OCCUPANCY_RATE         310\n",
              "dtype: int64"
            ]
          },
          "metadata": {},
          "execution_count": 262
        }
      ],
      "source": [
        "df_flights.isna().sum()"
      ]
    },
    {
      "cell_type": "code",
      "execution_count": 263,
      "metadata": {
        "colab": {
          "base_uri": "https://localhost:8080/"
        },
        "id": "Dyokmt20F4Nv",
        "outputId": "7c3357ba-ba15-40e7-fb11-7b9e965bd221"
      },
      "outputs": [
        {
          "output_type": "execute_result",
          "data": {
            "text/plain": [
              "0.00    1864272\n",
              "1.00      51614\n",
              "Name: CANCELLED, dtype: int64"
            ]
          },
          "metadata": {},
          "execution_count": 263
        }
      ],
      "source": [
        "'''Checking counts for cancelled flights'''\n",
        "df_flights['CANCELLED'].value_counts()"
      ]
    },
    {
      "cell_type": "code",
      "execution_count": 264,
      "metadata": {
        "colab": {
          "base_uri": "https://localhost:8080/",
          "height": 297
        },
        "id": "V6ISkDE-MJQW",
        "outputId": "04f8c37f-d72b-4aaf-e90d-8ca2ec33e80f"
      },
      "outputs": [
        {
          "output_type": "execute_result",
          "data": {
            "text/plain": [
              "       ORIGIN_AIRPORT_ID  DEST_AIRPORT_ID  DEP_DELAY  ARR_DELAY  CANCELLED  \\\n",
              "count         1915886.00       1915886.00 1865535.00 1859895.00 1915886.00   \n",
              "mean            12688.15         12689.27      10.80       5.65       0.03   \n",
              "std              1521.90          1521.25      50.16      52.41       0.16   \n",
              "min             10135.00         10135.00     -63.00     -94.00       0.00   \n",
              "25%             11292.00         11292.00      -6.00     -15.00       0.00   \n",
              "50%             12889.00         12889.00      -2.00      -6.00       0.00   \n",
              "75%             14057.00         14057.00       7.00       8.00       0.00   \n",
              "max             16218.00         16218.00    2941.00    2923.00       1.00   \n",
              "\n",
              "       OCCUPANCY_RATE  \n",
              "count      1915576.00  \n",
              "mean             0.65  \n",
              "std              0.20  \n",
              "min              0.30  \n",
              "25%              0.48  \n",
              "50%              0.65  \n",
              "75%              0.82  \n",
              "max              1.00  "
            ],
            "text/html": [
              "\n",
              "  <div id=\"df-b3927e10-64ae-47c0-af85-771d89bf7751\">\n",
              "    <div class=\"colab-df-container\">\n",
              "      <div>\n",
              "<style scoped>\n",
              "    .dataframe tbody tr th:only-of-type {\n",
              "        vertical-align: middle;\n",
              "    }\n",
              "\n",
              "    .dataframe tbody tr th {\n",
              "        vertical-align: top;\n",
              "    }\n",
              "\n",
              "    .dataframe thead th {\n",
              "        text-align: right;\n",
              "    }\n",
              "</style>\n",
              "<table border=\"1\" class=\"dataframe\">\n",
              "  <thead>\n",
              "    <tr style=\"text-align: right;\">\n",
              "      <th></th>\n",
              "      <th>ORIGIN_AIRPORT_ID</th>\n",
              "      <th>DEST_AIRPORT_ID</th>\n",
              "      <th>DEP_DELAY</th>\n",
              "      <th>ARR_DELAY</th>\n",
              "      <th>CANCELLED</th>\n",
              "      <th>OCCUPANCY_RATE</th>\n",
              "    </tr>\n",
              "  </thead>\n",
              "  <tbody>\n",
              "    <tr>\n",
              "      <th>count</th>\n",
              "      <td>1915886.00</td>\n",
              "      <td>1915886.00</td>\n",
              "      <td>1865535.00</td>\n",
              "      <td>1859895.00</td>\n",
              "      <td>1915886.00</td>\n",
              "      <td>1915576.00</td>\n",
              "    </tr>\n",
              "    <tr>\n",
              "      <th>mean</th>\n",
              "      <td>12688.15</td>\n",
              "      <td>12689.27</td>\n",
              "      <td>10.80</td>\n",
              "      <td>5.65</td>\n",
              "      <td>0.03</td>\n",
              "      <td>0.65</td>\n",
              "    </tr>\n",
              "    <tr>\n",
              "      <th>std</th>\n",
              "      <td>1521.90</td>\n",
              "      <td>1521.25</td>\n",
              "      <td>50.16</td>\n",
              "      <td>52.41</td>\n",
              "      <td>0.16</td>\n",
              "      <td>0.20</td>\n",
              "    </tr>\n",
              "    <tr>\n",
              "      <th>min</th>\n",
              "      <td>10135.00</td>\n",
              "      <td>10135.00</td>\n",
              "      <td>-63.00</td>\n",
              "      <td>-94.00</td>\n",
              "      <td>0.00</td>\n",
              "      <td>0.30</td>\n",
              "    </tr>\n",
              "    <tr>\n",
              "      <th>25%</th>\n",
              "      <td>11292.00</td>\n",
              "      <td>11292.00</td>\n",
              "      <td>-6.00</td>\n",
              "      <td>-15.00</td>\n",
              "      <td>0.00</td>\n",
              "      <td>0.48</td>\n",
              "    </tr>\n",
              "    <tr>\n",
              "      <th>50%</th>\n",
              "      <td>12889.00</td>\n",
              "      <td>12889.00</td>\n",
              "      <td>-2.00</td>\n",
              "      <td>-6.00</td>\n",
              "      <td>0.00</td>\n",
              "      <td>0.65</td>\n",
              "    </tr>\n",
              "    <tr>\n",
              "      <th>75%</th>\n",
              "      <td>14057.00</td>\n",
              "      <td>14057.00</td>\n",
              "      <td>7.00</td>\n",
              "      <td>8.00</td>\n",
              "      <td>0.00</td>\n",
              "      <td>0.82</td>\n",
              "    </tr>\n",
              "    <tr>\n",
              "      <th>max</th>\n",
              "      <td>16218.00</td>\n",
              "      <td>16218.00</td>\n",
              "      <td>2941.00</td>\n",
              "      <td>2923.00</td>\n",
              "      <td>1.00</td>\n",
              "      <td>1.00</td>\n",
              "    </tr>\n",
              "  </tbody>\n",
              "</table>\n",
              "</div>\n",
              "      <button class=\"colab-df-convert\" onclick=\"convertToInteractive('df-b3927e10-64ae-47c0-af85-771d89bf7751')\"\n",
              "              title=\"Convert this dataframe to an interactive table.\"\n",
              "              style=\"display:none;\">\n",
              "        \n",
              "  <svg xmlns=\"http://www.w3.org/2000/svg\" height=\"24px\"viewBox=\"0 0 24 24\"\n",
              "       width=\"24px\">\n",
              "    <path d=\"M0 0h24v24H0V0z\" fill=\"none\"/>\n",
              "    <path d=\"M18.56 5.44l.94 2.06.94-2.06 2.06-.94-2.06-.94-.94-2.06-.94 2.06-2.06.94zm-11 1L8.5 8.5l.94-2.06 2.06-.94-2.06-.94L8.5 2.5l-.94 2.06-2.06.94zm10 10l.94 2.06.94-2.06 2.06-.94-2.06-.94-.94-2.06-.94 2.06-2.06.94z\"/><path d=\"M17.41 7.96l-1.37-1.37c-.4-.4-.92-.59-1.43-.59-.52 0-1.04.2-1.43.59L10.3 9.45l-7.72 7.72c-.78.78-.78 2.05 0 2.83L4 21.41c.39.39.9.59 1.41.59.51 0 1.02-.2 1.41-.59l7.78-7.78 2.81-2.81c.8-.78.8-2.07 0-2.86zM5.41 20L4 18.59l7.72-7.72 1.47 1.35L5.41 20z\"/>\n",
              "  </svg>\n",
              "      </button>\n",
              "      \n",
              "  <style>\n",
              "    .colab-df-container {\n",
              "      display:flex;\n",
              "      flex-wrap:wrap;\n",
              "      gap: 12px;\n",
              "    }\n",
              "\n",
              "    .colab-df-convert {\n",
              "      background-color: #E8F0FE;\n",
              "      border: none;\n",
              "      border-radius: 50%;\n",
              "      cursor: pointer;\n",
              "      display: none;\n",
              "      fill: #1967D2;\n",
              "      height: 32px;\n",
              "      padding: 0 0 0 0;\n",
              "      width: 32px;\n",
              "    }\n",
              "\n",
              "    .colab-df-convert:hover {\n",
              "      background-color: #E2EBFA;\n",
              "      box-shadow: 0px 1px 2px rgba(60, 64, 67, 0.3), 0px 1px 3px 1px rgba(60, 64, 67, 0.15);\n",
              "      fill: #174EA6;\n",
              "    }\n",
              "\n",
              "    [theme=dark] .colab-df-convert {\n",
              "      background-color: #3B4455;\n",
              "      fill: #D2E3FC;\n",
              "    }\n",
              "\n",
              "    [theme=dark] .colab-df-convert:hover {\n",
              "      background-color: #434B5C;\n",
              "      box-shadow: 0px 1px 3px 1px rgba(0, 0, 0, 0.15);\n",
              "      filter: drop-shadow(0px 1px 2px rgba(0, 0, 0, 0.3));\n",
              "      fill: #FFFFFF;\n",
              "    }\n",
              "  </style>\n",
              "\n",
              "      <script>\n",
              "        const buttonEl =\n",
              "          document.querySelector('#df-b3927e10-64ae-47c0-af85-771d89bf7751 button.colab-df-convert');\n",
              "        buttonEl.style.display =\n",
              "          google.colab.kernel.accessAllowed ? 'block' : 'none';\n",
              "\n",
              "        async function convertToInteractive(key) {\n",
              "          const element = document.querySelector('#df-b3927e10-64ae-47c0-af85-771d89bf7751');\n",
              "          const dataTable =\n",
              "            await google.colab.kernel.invokeFunction('convertToInteractive',\n",
              "                                                     [key], {});\n",
              "          if (!dataTable) return;\n",
              "\n",
              "          const docLinkHtml = 'Like what you see? Visit the ' +\n",
              "            '<a target=\"_blank\" href=https://colab.research.google.com/notebooks/data_table.ipynb>data table notebook</a>'\n",
              "            + ' to learn more about interactive tables.';\n",
              "          element.innerHTML = '';\n",
              "          dataTable['output_type'] = 'display_data';\n",
              "          await google.colab.output.renderOutput(dataTable, element);\n",
              "          const docLink = document.createElement('div');\n",
              "          docLink.innerHTML = docLinkHtml;\n",
              "          element.appendChild(docLink);\n",
              "        }\n",
              "      </script>\n",
              "    </div>\n",
              "  </div>\n",
              "  "
            ]
          },
          "metadata": {},
          "execution_count": 264
        }
      ],
      "source": [
        "df_flights.describe()"
      ]
    },
    {
      "cell_type": "code",
      "execution_count": 265,
      "metadata": {
        "colab": {
          "base_uri": "https://localhost:8080/"
        },
        "id": "uNSh-uRTOVCa",
        "outputId": "65d25d06-fa85-41d0-bb19-7ef7a290daea"
      },
      "outputs": [
        {
          "output_type": "execute_result",
          "data": {
            "text/plain": [
              "FL_DATE               object\n",
              "OP_CARRIER            object\n",
              "TAIL_NUM              object\n",
              "OP_CARRIER_FL_NUM     object\n",
              "ORIGIN_AIRPORT_ID      int64\n",
              "ORIGIN                object\n",
              "ORIGIN_CITY_NAME      object\n",
              "DEST_AIRPORT_ID        int64\n",
              "DESTINATION           object\n",
              "DEST_CITY_NAME        object\n",
              "DEP_DELAY            float64\n",
              "ARR_DELAY            float64\n",
              "CANCELLED            float64\n",
              "AIR_TIME              object\n",
              "DISTANCE              object\n",
              "OCCUPANCY_RATE       float64\n",
              "dtype: object"
            ]
          },
          "metadata": {},
          "execution_count": 265
        }
      ],
      "source": [
        "df_flights.dtypes"
      ]
    },
    {
      "cell_type": "code",
      "source": [
        "''' flights data helper function ''' \n",
        "\n",
        "def flight_helper(df_flights):\n",
        "\n",
        "  value_at = ['$$$', 'Two', 'NAN']\n",
        "  value_dist = ['****', 'Hundred', 'NAN', 'Twenty']\n",
        "\n",
        "  # removing invalid files\n",
        "  df_flights = df_flights[df_flights.AIR_TIME.isin(value_at) == False]\n",
        "  df_flights = df_flights[df_flights.DISTANCE.isin(value_dist) == False]\n",
        "  df_flights = df_flights.dropna(subset = ['DEP_DELAY', 'ARR_DELAY','AIR_TIME'])\n",
        "\n",
        "  #changing the data types\n",
        "  df_flights['FL_DATE'] = df_flights['FL_DATE'].apply(pd.to_datetime)\n",
        "  df_flights[['AIR_TIME','DISTANCE', 'DEP_DELAY']] = df_flights[['AIR_TIME','DISTANCE', 'DEP_DELAY']].apply(pd.to_numeric)\n",
        "\n",
        "  #limit to only uncancelled flights\n",
        "  df_flights = df_flights[df_flights['CANCELLED'] == 0.00]\n",
        "\n",
        "  # limit to only required fields\n",
        "  df_flights_tmp = df_flights[['FL_DATE','OP_CARRIER', 'OP_CARRIER_FL_NUM', 'ORIGIN', 'DESTINATION',\n",
        "                                 'DEP_DELAY',\t'ARR_DELAY', 'AIR_TIME', 'DISTANCE',\n",
        "                                 'OCCUPANCY_RATE']]\n",
        "\n",
        "  return df_flights_tmp                               \n"
      ],
      "metadata": {
        "id": "TG-ltnJK8xDh"
      },
      "execution_count": 266,
      "outputs": []
    },
    {
      "cell_type": "code",
      "source": [
        "'''Get the cleaned flights dataframe'''\n",
        "\n",
        "df_flights_tmp = flight_helper(df_flights)"
      ],
      "metadata": {
        "id": "c5TqJKXX-rZV"
      },
      "execution_count": 267,
      "outputs": []
    },
    {
      "cell_type": "code",
      "execution_count": 268,
      "metadata": {
        "colab": {
          "base_uri": "https://localhost:8080/"
        },
        "id": "rRQPOqqvP3pZ",
        "outputId": "cc8c181b-4bd7-4ee3-cb69-eb8e673e2091"
      },
      "outputs": [
        {
          "output_type": "execute_result",
          "data": {
            "text/plain": [
              "(1855725, 10)"
            ]
          },
          "metadata": {},
          "execution_count": 268
        }
      ],
      "source": [
        "df_flights_tmp.shape"
      ]
    },
    {
      "cell_type": "code",
      "source": [
        "''' merge dataframe and rename column'''\n",
        "\n",
        "def merge_df(df1, df2, left, right, col, col_name):\n",
        "\n",
        "  tmp_df = pd.merge(df1, df2, left_on = left, right_on = right)\n",
        "  tmp_df.rename(columns = {col: col_name}, inplace = True)\n",
        "  tmp_df.drop(columns = ['NAME', 'ELEVATION_FT', 'CONTINENT', 'ISO_COUNTRY',\n",
        "       'MUNICIPALITY', 'IATA_CODE', 'COORDINATES'], inplace = True)\n",
        "  \n",
        "  return tmp_df"
      ],
      "metadata": {
        "id": "VEe2wnUbCRBc"
      },
      "execution_count": 269,
      "outputs": []
    },
    {
      "cell_type": "code",
      "source": [
        "tmp_flight1 = merge_df(df_flights_tmp, df_airports_rev, 'ORIGIN', 'IATA_CODE', 'TYPE', 'ORIGIN_TYPE')"
      ],
      "metadata": {
        "id": "cAX1xsu8DCYC"
      },
      "execution_count": 270,
      "outputs": []
    },
    {
      "cell_type": "code",
      "source": [
        "tmp_flight2 = merge_df(tmp_flight1, df_airports_rev, 'DESTINATION', 'IATA_CODE', 'TYPE', 'DESTINATION_TYPE')"
      ],
      "metadata": {
        "id": "FU-hYIFPG-U_"
      },
      "execution_count": 271,
      "outputs": []
    },
    {
      "cell_type": "code",
      "source": [
        "tmp_flight2.head(5)"
      ],
      "metadata": {
        "colab": {
          "base_uri": "https://localhost:8080/",
          "height": 353
        },
        "id": "crUT88FFHQ5B",
        "outputId": "8708ea83-f2e0-4104-9096-1d5168935978"
      },
      "execution_count": 272,
      "outputs": [
        {
          "output_type": "execute_result",
          "data": {
            "text/plain": [
              "     FL_DATE OP_CARRIER OP_CARRIER_FL_NUM ORIGIN DESTINATION  DEP_DELAY  \\\n",
              "0 2019-03-02         WN              4591    RSW         CLE      -8.00   \n",
              "1 2019-03-09         WN              3016    RSW         CLE      -7.00   \n",
              "2 2019-03-24         UA              2350    RSW         CLE     -16.00   \n",
              "3 2019-03-11         UA              2350    RSW         CLE      -1.00   \n",
              "4 2019-03-10         UA              2350    RSW         CLE      -6.00   \n",
              "\n",
              "   ARR_DELAY  AIR_TIME  DISTANCE  OCCUPANCY_RATE    ORIGIN_TYPE  \\\n",
              "0      -6.00    143.00   1025.00            0.97  large_airport   \n",
              "1     -22.00    137.00   1025.00            0.63  large_airport   \n",
              "2      -9.00    129.00   1025.00            0.98  large_airport   \n",
              "3       8.00    138.00   1025.00            0.36  large_airport   \n",
              "4       1.00    141.00   1025.00            0.45  large_airport   \n",
              "\n",
              "  DESTINATION_TYPE  \n",
              "0    large_airport  \n",
              "1    large_airport  \n",
              "2    large_airport  \n",
              "3    large_airport  \n",
              "4    large_airport  "
            ],
            "text/html": [
              "\n",
              "  <div id=\"df-96773bc2-0df1-4d15-813a-07e1ef9febd5\">\n",
              "    <div class=\"colab-df-container\">\n",
              "      <div>\n",
              "<style scoped>\n",
              "    .dataframe tbody tr th:only-of-type {\n",
              "        vertical-align: middle;\n",
              "    }\n",
              "\n",
              "    .dataframe tbody tr th {\n",
              "        vertical-align: top;\n",
              "    }\n",
              "\n",
              "    .dataframe thead th {\n",
              "        text-align: right;\n",
              "    }\n",
              "</style>\n",
              "<table border=\"1\" class=\"dataframe\">\n",
              "  <thead>\n",
              "    <tr style=\"text-align: right;\">\n",
              "      <th></th>\n",
              "      <th>FL_DATE</th>\n",
              "      <th>OP_CARRIER</th>\n",
              "      <th>OP_CARRIER_FL_NUM</th>\n",
              "      <th>ORIGIN</th>\n",
              "      <th>DESTINATION</th>\n",
              "      <th>DEP_DELAY</th>\n",
              "      <th>ARR_DELAY</th>\n",
              "      <th>AIR_TIME</th>\n",
              "      <th>DISTANCE</th>\n",
              "      <th>OCCUPANCY_RATE</th>\n",
              "      <th>ORIGIN_TYPE</th>\n",
              "      <th>DESTINATION_TYPE</th>\n",
              "    </tr>\n",
              "  </thead>\n",
              "  <tbody>\n",
              "    <tr>\n",
              "      <th>0</th>\n",
              "      <td>2019-03-02</td>\n",
              "      <td>WN</td>\n",
              "      <td>4591</td>\n",
              "      <td>RSW</td>\n",
              "      <td>CLE</td>\n",
              "      <td>-8.00</td>\n",
              "      <td>-6.00</td>\n",
              "      <td>143.00</td>\n",
              "      <td>1025.00</td>\n",
              "      <td>0.97</td>\n",
              "      <td>large_airport</td>\n",
              "      <td>large_airport</td>\n",
              "    </tr>\n",
              "    <tr>\n",
              "      <th>1</th>\n",
              "      <td>2019-03-09</td>\n",
              "      <td>WN</td>\n",
              "      <td>3016</td>\n",
              "      <td>RSW</td>\n",
              "      <td>CLE</td>\n",
              "      <td>-7.00</td>\n",
              "      <td>-22.00</td>\n",
              "      <td>137.00</td>\n",
              "      <td>1025.00</td>\n",
              "      <td>0.63</td>\n",
              "      <td>large_airport</td>\n",
              "      <td>large_airport</td>\n",
              "    </tr>\n",
              "    <tr>\n",
              "      <th>2</th>\n",
              "      <td>2019-03-24</td>\n",
              "      <td>UA</td>\n",
              "      <td>2350</td>\n",
              "      <td>RSW</td>\n",
              "      <td>CLE</td>\n",
              "      <td>-16.00</td>\n",
              "      <td>-9.00</td>\n",
              "      <td>129.00</td>\n",
              "      <td>1025.00</td>\n",
              "      <td>0.98</td>\n",
              "      <td>large_airport</td>\n",
              "      <td>large_airport</td>\n",
              "    </tr>\n",
              "    <tr>\n",
              "      <th>3</th>\n",
              "      <td>2019-03-11</td>\n",
              "      <td>UA</td>\n",
              "      <td>2350</td>\n",
              "      <td>RSW</td>\n",
              "      <td>CLE</td>\n",
              "      <td>-1.00</td>\n",
              "      <td>8.00</td>\n",
              "      <td>138.00</td>\n",
              "      <td>1025.00</td>\n",
              "      <td>0.36</td>\n",
              "      <td>large_airport</td>\n",
              "      <td>large_airport</td>\n",
              "    </tr>\n",
              "    <tr>\n",
              "      <th>4</th>\n",
              "      <td>2019-03-10</td>\n",
              "      <td>UA</td>\n",
              "      <td>2350</td>\n",
              "      <td>RSW</td>\n",
              "      <td>CLE</td>\n",
              "      <td>-6.00</td>\n",
              "      <td>1.00</td>\n",
              "      <td>141.00</td>\n",
              "      <td>1025.00</td>\n",
              "      <td>0.45</td>\n",
              "      <td>large_airport</td>\n",
              "      <td>large_airport</td>\n",
              "    </tr>\n",
              "  </tbody>\n",
              "</table>\n",
              "</div>\n",
              "      <button class=\"colab-df-convert\" onclick=\"convertToInteractive('df-96773bc2-0df1-4d15-813a-07e1ef9febd5')\"\n",
              "              title=\"Convert this dataframe to an interactive table.\"\n",
              "              style=\"display:none;\">\n",
              "        \n",
              "  <svg xmlns=\"http://www.w3.org/2000/svg\" height=\"24px\"viewBox=\"0 0 24 24\"\n",
              "       width=\"24px\">\n",
              "    <path d=\"M0 0h24v24H0V0z\" fill=\"none\"/>\n",
              "    <path d=\"M18.56 5.44l.94 2.06.94-2.06 2.06-.94-2.06-.94-.94-2.06-.94 2.06-2.06.94zm-11 1L8.5 8.5l.94-2.06 2.06-.94-2.06-.94L8.5 2.5l-.94 2.06-2.06.94zm10 10l.94 2.06.94-2.06 2.06-.94-2.06-.94-.94-2.06-.94 2.06-2.06.94z\"/><path d=\"M17.41 7.96l-1.37-1.37c-.4-.4-.92-.59-1.43-.59-.52 0-1.04.2-1.43.59L10.3 9.45l-7.72 7.72c-.78.78-.78 2.05 0 2.83L4 21.41c.39.39.9.59 1.41.59.51 0 1.02-.2 1.41-.59l7.78-7.78 2.81-2.81c.8-.78.8-2.07 0-2.86zM5.41 20L4 18.59l7.72-7.72 1.47 1.35L5.41 20z\"/>\n",
              "  </svg>\n",
              "      </button>\n",
              "      \n",
              "  <style>\n",
              "    .colab-df-container {\n",
              "      display:flex;\n",
              "      flex-wrap:wrap;\n",
              "      gap: 12px;\n",
              "    }\n",
              "\n",
              "    .colab-df-convert {\n",
              "      background-color: #E8F0FE;\n",
              "      border: none;\n",
              "      border-radius: 50%;\n",
              "      cursor: pointer;\n",
              "      display: none;\n",
              "      fill: #1967D2;\n",
              "      height: 32px;\n",
              "      padding: 0 0 0 0;\n",
              "      width: 32px;\n",
              "    }\n",
              "\n",
              "    .colab-df-convert:hover {\n",
              "      background-color: #E2EBFA;\n",
              "      box-shadow: 0px 1px 2px rgba(60, 64, 67, 0.3), 0px 1px 3px 1px rgba(60, 64, 67, 0.15);\n",
              "      fill: #174EA6;\n",
              "    }\n",
              "\n",
              "    [theme=dark] .colab-df-convert {\n",
              "      background-color: #3B4455;\n",
              "      fill: #D2E3FC;\n",
              "    }\n",
              "\n",
              "    [theme=dark] .colab-df-convert:hover {\n",
              "      background-color: #434B5C;\n",
              "      box-shadow: 0px 1px 3px 1px rgba(0, 0, 0, 0.15);\n",
              "      filter: drop-shadow(0px 1px 2px rgba(0, 0, 0, 0.3));\n",
              "      fill: #FFFFFF;\n",
              "    }\n",
              "  </style>\n",
              "\n",
              "      <script>\n",
              "        const buttonEl =\n",
              "          document.querySelector('#df-96773bc2-0df1-4d15-813a-07e1ef9febd5 button.colab-df-convert');\n",
              "        buttonEl.style.display =\n",
              "          google.colab.kernel.accessAllowed ? 'block' : 'none';\n",
              "\n",
              "        async function convertToInteractive(key) {\n",
              "          const element = document.querySelector('#df-96773bc2-0df1-4d15-813a-07e1ef9febd5');\n",
              "          const dataTable =\n",
              "            await google.colab.kernel.invokeFunction('convertToInteractive',\n",
              "                                                     [key], {});\n",
              "          if (!dataTable) return;\n",
              "\n",
              "          const docLinkHtml = 'Like what you see? Visit the ' +\n",
              "            '<a target=\"_blank\" href=https://colab.research.google.com/notebooks/data_table.ipynb>data table notebook</a>'\n",
              "            + ' to learn more about interactive tables.';\n",
              "          element.innerHTML = '';\n",
              "          dataTable['output_type'] = 'display_data';\n",
              "          await google.colab.output.renderOutput(dataTable, element);\n",
              "          const docLink = document.createElement('div');\n",
              "          docLink.innerHTML = docLinkHtml;\n",
              "          element.appendChild(docLink);\n",
              "        }\n",
              "      </script>\n",
              "    </div>\n",
              "  </div>\n",
              "  "
            ]
          },
          "metadata": {},
          "execution_count": 272
        }
      ]
    },
    {
      "cell_type": "code",
      "source": [
        "''' function to get avg dep and arr delays on flight data '''\n",
        "\n",
        "def avg_delay_helper(tmp_flight2):\n",
        "\n",
        "  tmp_flight2['AVG_DEP_DELAY'] = tmp_flight2.groupby(['ORIGIN', 'DESTINATION'])['DEP_DELAY'].transform('mean')\n",
        "  tmp_flight2['AVG_ARR_DELAY'] = tmp_flight2.groupby(['ORIGIN', 'DESTINATION'])['ARR_DELAY'].transform('mean')\n",
        "\n",
        "  return tmp_flight2\n"
      ],
      "metadata": {
        "id": "y63_6GtiHcV3"
      },
      "execution_count": 273,
      "outputs": []
    },
    {
      "cell_type": "code",
      "source": [
        "''' flights dataframe to use '''\n",
        "df_flights_rev = avg_delay_helper(tmp_flight2)"
      ],
      "metadata": {
        "id": "_v1OZlRc86fN"
      },
      "execution_count": 274,
      "outputs": []
    },
    {
      "cell_type": "code",
      "source": [
        "df_flights_rev.head(5)"
      ],
      "metadata": {
        "colab": {
          "base_uri": "https://localhost:8080/",
          "height": 353
        },
        "id": "wihb-UY3JD37",
        "outputId": "37f3815f-7ebd-4d8e-d9fc-5a0bcaf35da8"
      },
      "execution_count": 275,
      "outputs": [
        {
          "output_type": "execute_result",
          "data": {
            "text/plain": [
              "     FL_DATE OP_CARRIER OP_CARRIER_FL_NUM ORIGIN DESTINATION  DEP_DELAY  \\\n",
              "0 2019-03-02         WN              4591    RSW         CLE      -8.00   \n",
              "1 2019-03-09         WN              3016    RSW         CLE      -7.00   \n",
              "2 2019-03-24         UA              2350    RSW         CLE     -16.00   \n",
              "3 2019-03-11         UA              2350    RSW         CLE      -1.00   \n",
              "4 2019-03-10         UA              2350    RSW         CLE      -6.00   \n",
              "\n",
              "   ARR_DELAY  AIR_TIME  DISTANCE  OCCUPANCY_RATE    ORIGIN_TYPE  \\\n",
              "0      -6.00    143.00   1025.00            0.97  large_airport   \n",
              "1     -22.00    137.00   1025.00            0.63  large_airport   \n",
              "2      -9.00    129.00   1025.00            0.98  large_airport   \n",
              "3       8.00    138.00   1025.00            0.36  large_airport   \n",
              "4       1.00    141.00   1025.00            0.45  large_airport   \n",
              "\n",
              "  DESTINATION_TYPE  AVG_DEP_DELAY  AVG_ARR_DELAY  \n",
              "0    large_airport          13.08           7.55  \n",
              "1    large_airport          13.08           7.55  \n",
              "2    large_airport          13.08           7.55  \n",
              "3    large_airport          13.08           7.55  \n",
              "4    large_airport          13.08           7.55  "
            ],
            "text/html": [
              "\n",
              "  <div id=\"df-89f60bd4-4a69-4f5d-ac05-24a98d639cd2\">\n",
              "    <div class=\"colab-df-container\">\n",
              "      <div>\n",
              "<style scoped>\n",
              "    .dataframe tbody tr th:only-of-type {\n",
              "        vertical-align: middle;\n",
              "    }\n",
              "\n",
              "    .dataframe tbody tr th {\n",
              "        vertical-align: top;\n",
              "    }\n",
              "\n",
              "    .dataframe thead th {\n",
              "        text-align: right;\n",
              "    }\n",
              "</style>\n",
              "<table border=\"1\" class=\"dataframe\">\n",
              "  <thead>\n",
              "    <tr style=\"text-align: right;\">\n",
              "      <th></th>\n",
              "      <th>FL_DATE</th>\n",
              "      <th>OP_CARRIER</th>\n",
              "      <th>OP_CARRIER_FL_NUM</th>\n",
              "      <th>ORIGIN</th>\n",
              "      <th>DESTINATION</th>\n",
              "      <th>DEP_DELAY</th>\n",
              "      <th>ARR_DELAY</th>\n",
              "      <th>AIR_TIME</th>\n",
              "      <th>DISTANCE</th>\n",
              "      <th>OCCUPANCY_RATE</th>\n",
              "      <th>ORIGIN_TYPE</th>\n",
              "      <th>DESTINATION_TYPE</th>\n",
              "      <th>AVG_DEP_DELAY</th>\n",
              "      <th>AVG_ARR_DELAY</th>\n",
              "    </tr>\n",
              "  </thead>\n",
              "  <tbody>\n",
              "    <tr>\n",
              "      <th>0</th>\n",
              "      <td>2019-03-02</td>\n",
              "      <td>WN</td>\n",
              "      <td>4591</td>\n",
              "      <td>RSW</td>\n",
              "      <td>CLE</td>\n",
              "      <td>-8.00</td>\n",
              "      <td>-6.00</td>\n",
              "      <td>143.00</td>\n",
              "      <td>1025.00</td>\n",
              "      <td>0.97</td>\n",
              "      <td>large_airport</td>\n",
              "      <td>large_airport</td>\n",
              "      <td>13.08</td>\n",
              "      <td>7.55</td>\n",
              "    </tr>\n",
              "    <tr>\n",
              "      <th>1</th>\n",
              "      <td>2019-03-09</td>\n",
              "      <td>WN</td>\n",
              "      <td>3016</td>\n",
              "      <td>RSW</td>\n",
              "      <td>CLE</td>\n",
              "      <td>-7.00</td>\n",
              "      <td>-22.00</td>\n",
              "      <td>137.00</td>\n",
              "      <td>1025.00</td>\n",
              "      <td>0.63</td>\n",
              "      <td>large_airport</td>\n",
              "      <td>large_airport</td>\n",
              "      <td>13.08</td>\n",
              "      <td>7.55</td>\n",
              "    </tr>\n",
              "    <tr>\n",
              "      <th>2</th>\n",
              "      <td>2019-03-24</td>\n",
              "      <td>UA</td>\n",
              "      <td>2350</td>\n",
              "      <td>RSW</td>\n",
              "      <td>CLE</td>\n",
              "      <td>-16.00</td>\n",
              "      <td>-9.00</td>\n",
              "      <td>129.00</td>\n",
              "      <td>1025.00</td>\n",
              "      <td>0.98</td>\n",
              "      <td>large_airport</td>\n",
              "      <td>large_airport</td>\n",
              "      <td>13.08</td>\n",
              "      <td>7.55</td>\n",
              "    </tr>\n",
              "    <tr>\n",
              "      <th>3</th>\n",
              "      <td>2019-03-11</td>\n",
              "      <td>UA</td>\n",
              "      <td>2350</td>\n",
              "      <td>RSW</td>\n",
              "      <td>CLE</td>\n",
              "      <td>-1.00</td>\n",
              "      <td>8.00</td>\n",
              "      <td>138.00</td>\n",
              "      <td>1025.00</td>\n",
              "      <td>0.36</td>\n",
              "      <td>large_airport</td>\n",
              "      <td>large_airport</td>\n",
              "      <td>13.08</td>\n",
              "      <td>7.55</td>\n",
              "    </tr>\n",
              "    <tr>\n",
              "      <th>4</th>\n",
              "      <td>2019-03-10</td>\n",
              "      <td>UA</td>\n",
              "      <td>2350</td>\n",
              "      <td>RSW</td>\n",
              "      <td>CLE</td>\n",
              "      <td>-6.00</td>\n",
              "      <td>1.00</td>\n",
              "      <td>141.00</td>\n",
              "      <td>1025.00</td>\n",
              "      <td>0.45</td>\n",
              "      <td>large_airport</td>\n",
              "      <td>large_airport</td>\n",
              "      <td>13.08</td>\n",
              "      <td>7.55</td>\n",
              "    </tr>\n",
              "  </tbody>\n",
              "</table>\n",
              "</div>\n",
              "      <button class=\"colab-df-convert\" onclick=\"convertToInteractive('df-89f60bd4-4a69-4f5d-ac05-24a98d639cd2')\"\n",
              "              title=\"Convert this dataframe to an interactive table.\"\n",
              "              style=\"display:none;\">\n",
              "        \n",
              "  <svg xmlns=\"http://www.w3.org/2000/svg\" height=\"24px\"viewBox=\"0 0 24 24\"\n",
              "       width=\"24px\">\n",
              "    <path d=\"M0 0h24v24H0V0z\" fill=\"none\"/>\n",
              "    <path d=\"M18.56 5.44l.94 2.06.94-2.06 2.06-.94-2.06-.94-.94-2.06-.94 2.06-2.06.94zm-11 1L8.5 8.5l.94-2.06 2.06-.94-2.06-.94L8.5 2.5l-.94 2.06-2.06.94zm10 10l.94 2.06.94-2.06 2.06-.94-2.06-.94-.94-2.06-.94 2.06-2.06.94z\"/><path d=\"M17.41 7.96l-1.37-1.37c-.4-.4-.92-.59-1.43-.59-.52 0-1.04.2-1.43.59L10.3 9.45l-7.72 7.72c-.78.78-.78 2.05 0 2.83L4 21.41c.39.39.9.59 1.41.59.51 0 1.02-.2 1.41-.59l7.78-7.78 2.81-2.81c.8-.78.8-2.07 0-2.86zM5.41 20L4 18.59l7.72-7.72 1.47 1.35L5.41 20z\"/>\n",
              "  </svg>\n",
              "      </button>\n",
              "      \n",
              "  <style>\n",
              "    .colab-df-container {\n",
              "      display:flex;\n",
              "      flex-wrap:wrap;\n",
              "      gap: 12px;\n",
              "    }\n",
              "\n",
              "    .colab-df-convert {\n",
              "      background-color: #E8F0FE;\n",
              "      border: none;\n",
              "      border-radius: 50%;\n",
              "      cursor: pointer;\n",
              "      display: none;\n",
              "      fill: #1967D2;\n",
              "      height: 32px;\n",
              "      padding: 0 0 0 0;\n",
              "      width: 32px;\n",
              "    }\n",
              "\n",
              "    .colab-df-convert:hover {\n",
              "      background-color: #E2EBFA;\n",
              "      box-shadow: 0px 1px 2px rgba(60, 64, 67, 0.3), 0px 1px 3px 1px rgba(60, 64, 67, 0.15);\n",
              "      fill: #174EA6;\n",
              "    }\n",
              "\n",
              "    [theme=dark] .colab-df-convert {\n",
              "      background-color: #3B4455;\n",
              "      fill: #D2E3FC;\n",
              "    }\n",
              "\n",
              "    [theme=dark] .colab-df-convert:hover {\n",
              "      background-color: #434B5C;\n",
              "      box-shadow: 0px 1px 3px 1px rgba(0, 0, 0, 0.15);\n",
              "      filter: drop-shadow(0px 1px 2px rgba(0, 0, 0, 0.3));\n",
              "      fill: #FFFFFF;\n",
              "    }\n",
              "  </style>\n",
              "\n",
              "      <script>\n",
              "        const buttonEl =\n",
              "          document.querySelector('#df-89f60bd4-4a69-4f5d-ac05-24a98d639cd2 button.colab-df-convert');\n",
              "        buttonEl.style.display =\n",
              "          google.colab.kernel.accessAllowed ? 'block' : 'none';\n",
              "\n",
              "        async function convertToInteractive(key) {\n",
              "          const element = document.querySelector('#df-89f60bd4-4a69-4f5d-ac05-24a98d639cd2');\n",
              "          const dataTable =\n",
              "            await google.colab.kernel.invokeFunction('convertToInteractive',\n",
              "                                                     [key], {});\n",
              "          if (!dataTable) return;\n",
              "\n",
              "          const docLinkHtml = 'Like what you see? Visit the ' +\n",
              "            '<a target=\"_blank\" href=https://colab.research.google.com/notebooks/data_table.ipynb>data table notebook</a>'\n",
              "            + ' to learn more about interactive tables.';\n",
              "          element.innerHTML = '';\n",
              "          dataTable['output_type'] = 'display_data';\n",
              "          await google.colab.output.renderOutput(dataTable, element);\n",
              "          const docLink = document.createElement('div');\n",
              "          docLink.innerHTML = docLinkHtml;\n",
              "          element.appendChild(docLink);\n",
              "        }\n",
              "      </script>\n",
              "    </div>\n",
              "  </div>\n",
              "  "
            ]
          },
          "metadata": {},
          "execution_count": 275
        }
      ]
    },
    {
      "cell_type": "markdown",
      "source": [
        "Tickets Data"
      ],
      "metadata": {
        "id": "99zV6HTNJXfr"
      }
    },
    {
      "cell_type": "code",
      "source": [
        "df_tickets.shape"
      ],
      "metadata": {
        "colab": {
          "base_uri": "https://localhost:8080/"
        },
        "id": "ZeqczYxrJeyq",
        "outputId": "87fb2aed-e33b-4782-9d60-ac7fb22c0a96"
      },
      "execution_count": 277,
      "outputs": [
        {
          "output_type": "execute_result",
          "data": {
            "text/plain": [
              "(1167285, 12)"
            ]
          },
          "metadata": {},
          "execution_count": 277
        }
      ]
    },
    {
      "cell_type": "code",
      "execution_count": 278,
      "metadata": {
        "colab": {
          "base_uri": "https://localhost:8080/"
        },
        "id": "i244E5tCDzrH",
        "outputId": "a78b24ec-8a8f-4d9d-f0a0-5fd5e490321d"
      },
      "outputs": [
        {
          "output_type": "execute_result",
          "data": {
            "text/plain": [
              "ITIN_ID                int64\n",
              "YEAR                   int64\n",
              "QUARTER                int64\n",
              "ORIGIN                object\n",
              "ORIGIN_COUNTRY        object\n",
              "ORIGIN_STATE_ABR      object\n",
              "ORIGIN_STATE_NM       object\n",
              "ROUNDTRIP            float64\n",
              "REPORTING_CARRIER     object\n",
              "PASSENGERS           float64\n",
              "ITIN_FARE             object\n",
              "DESTINATION           object\n",
              "dtype: object"
            ]
          },
          "metadata": {},
          "execution_count": 278
        }
      ],
      "source": [
        "df_tickets.dtypes"
      ]
    },
    {
      "cell_type": "code",
      "execution_count": 279,
      "metadata": {
        "colab": {
          "base_uri": "https://localhost:8080/"
        },
        "id": "cMqMcJjTE1LR",
        "outputId": "97044e74-1ac3-4b85-b3e4-4ac62daf57c0"
      },
      "outputs": [
        {
          "output_type": "execute_result",
          "data": {
            "text/plain": [
              "ITIN_ID                 0\n",
              "YEAR                    0\n",
              "QUARTER                 0\n",
              "ORIGIN                  0\n",
              "ORIGIN_COUNTRY          0\n",
              "ORIGIN_STATE_ABR        0\n",
              "ORIGIN_STATE_NM         0\n",
              "ROUNDTRIP               0\n",
              "REPORTING_CARRIER       0\n",
              "PASSENGERS           1977\n",
              "ITIN_FARE             960\n",
              "DESTINATION             0\n",
              "dtype: int64"
            ]
          },
          "metadata": {},
          "execution_count": 279
        }
      ],
      "source": [
        "df_tickets.isna().sum()"
      ]
    },
    {
      "cell_type": "code",
      "execution_count": 280,
      "metadata": {
        "colab": {
          "base_uri": "https://localhost:8080/"
        },
        "id": "eKYwm8mt5x4c",
        "outputId": "5db87e90-1d75-4c35-e590-eaca0f42678d"
      },
      "outputs": [
        {
          "output_type": "execute_result",
          "data": {
            "text/plain": [
              "US    1167285\n",
              "Name: ORIGIN_COUNTRY, dtype: int64"
            ]
          },
          "metadata": {},
          "execution_count": 280
        }
      ],
      "source": [
        "# Checking if there are countries other than US \n",
        "\n",
        "df_tickets['ORIGIN_COUNTRY'].value_counts() "
      ]
    },
    {
      "cell_type": "code",
      "source": [
        "# Checking the years in data\n",
        "\n",
        "df_tickets['YEAR'].value_counts()"
      ],
      "metadata": {
        "colab": {
          "base_uri": "https://localhost:8080/"
        },
        "id": "EeaP897vJlWL",
        "outputId": "79435d55-8c68-45a8-c91b-7a5d9930122e"
      },
      "execution_count": 281,
      "outputs": [
        {
          "output_type": "execute_result",
          "data": {
            "text/plain": [
              "2019    1167285\n",
              "Name: YEAR, dtype: int64"
            ]
          },
          "metadata": {},
          "execution_count": 281
        }
      ]
    },
    {
      "cell_type": "code",
      "source": [
        "# Checking the quarters in data\n",
        "\n",
        "df_tickets['QUARTER'].value_counts()"
      ],
      "metadata": {
        "colab": {
          "base_uri": "https://localhost:8080/"
        },
        "id": "20N4T7cwJm2v",
        "outputId": "bba254d6-3021-4cf7-aa6e-34edfd1e550d"
      },
      "execution_count": 282,
      "outputs": [
        {
          "output_type": "execute_result",
          "data": {
            "text/plain": [
              "1    1167285\n",
              "Name: QUARTER, dtype: int64"
            ]
          },
          "metadata": {},
          "execution_count": 282
        }
      ]
    },
    {
      "cell_type": "code",
      "source": [
        "df_tickets[pd.to_numeric(df_tickets['ITIN_FARE'], errors='coerce').isnull()]['ITIN_FARE'].value_counts()\n"
      ],
      "metadata": {
        "colab": {
          "base_uri": "https://localhost:8080/"
        },
        "id": "Wnpqcl5WK7hj",
        "outputId": "705ed230-0373-4c7d-f56f-86b5b076d18f"
      },
      "execution_count": 285,
      "outputs": [
        {
          "output_type": "execute_result",
          "data": {
            "text/plain": [
              "200 $       1751\n",
              "$ 100.00    1085\n",
              "820$$$       340\n",
              "Name: ITIN_FARE, dtype: int64"
            ]
          },
          "metadata": {},
          "execution_count": 285
        }
      ]
    },
    {
      "cell_type": "code",
      "source": [
        "'''tickets data helper function ''' \n",
        "\n",
        "def tickets_helper(df_tickets):\n",
        "\n",
        "  # dropping the null values from ITIN_FARE and PASSENGERS cols\n",
        "  df_tickets = df_tickets.dropna(subset = ['ITIN_FARE', 'PASSENGERS'])\n",
        "\n",
        "  #limit to only round trips\n",
        "  df_tickets = df_tickets[df_tickets['ROUNDTRIP'] == 1]\n",
        "\n",
        "  # clean the invalid values in ITIN_FARE column\n",
        "  df_tickets['ITIN_FARE'] = df_tickets['ITIN_FARE'].replace({'200 $': '200', '$ 100.00': '100', '820$$$': '820'})\n",
        "\n",
        "  # change the data type of ITIN_FARE\n",
        "  df_tickets['ITIN_FARE'] = df_tickets[['ITIN_FARE']].apply(pd.to_numeric)\n",
        "\n",
        "  # limit to required columns \n",
        "  df_tickets_tmp = df_tickets[['ITIN_ID', 'ORIGIN', 'ROUNDTRIP','REPORTING_CARRIER'\n",
        "                              ,'ITIN_FARE', 'DESTINATION', 'PASSENGERS']]\n",
        "\n",
        "  return df_tickets_tmp                            \n",
        "\n"
      ],
      "metadata": {
        "id": "xRQRJ4ivKcKE"
      },
      "execution_count": 286,
      "outputs": []
    },
    {
      "cell_type": "code",
      "source": [
        "df_tickets_rev = tickets_helper(df_tickets)"
      ],
      "metadata": {
        "id": "HpxPQ1JBLq0q"
      },
      "execution_count": 287,
      "outputs": []
    },
    {
      "cell_type": "code",
      "execution_count": 288,
      "metadata": {
        "colab": {
          "base_uri": "https://localhost:8080/",
          "height": 204
        },
        "id": "uiDcdXJT2d0s",
        "outputId": "9087dcf3-ad15-48c2-c6a0-f9d0b1541f80"
      },
      "outputs": [
        {
          "output_type": "execute_result",
          "data": {
            "text/plain": [
              "         ITIN_ID ORIGIN  ROUNDTRIP REPORTING_CARRIER  ITIN_FARE DESTINATION  \\\n",
              "0   201912723049    ABI       1.00                MQ     736.00         DAB   \n",
              "1   201912723085    ABI       1.00                MQ     570.00         COS   \n",
              "2   201912723491    ABI       1.00                MQ     564.00         MCO   \n",
              "3   201912723428    ABI       1.00                MQ     345.00         LGA   \n",
              "10  201912723337    ABI       1.00                MQ    1647.00         JAX   \n",
              "\n",
              "    PASSENGERS  \n",
              "0         1.00  \n",
              "1         1.00  \n",
              "2         1.00  \n",
              "3         1.00  \n",
              "10        1.00  "
            ],
            "text/html": [
              "\n",
              "  <div id=\"df-6138da63-0b31-4539-a3cd-dad657d1f6ae\">\n",
              "    <div class=\"colab-df-container\">\n",
              "      <div>\n",
              "<style scoped>\n",
              "    .dataframe tbody tr th:only-of-type {\n",
              "        vertical-align: middle;\n",
              "    }\n",
              "\n",
              "    .dataframe tbody tr th {\n",
              "        vertical-align: top;\n",
              "    }\n",
              "\n",
              "    .dataframe thead th {\n",
              "        text-align: right;\n",
              "    }\n",
              "</style>\n",
              "<table border=\"1\" class=\"dataframe\">\n",
              "  <thead>\n",
              "    <tr style=\"text-align: right;\">\n",
              "      <th></th>\n",
              "      <th>ITIN_ID</th>\n",
              "      <th>ORIGIN</th>\n",
              "      <th>ROUNDTRIP</th>\n",
              "      <th>REPORTING_CARRIER</th>\n",
              "      <th>ITIN_FARE</th>\n",
              "      <th>DESTINATION</th>\n",
              "      <th>PASSENGERS</th>\n",
              "    </tr>\n",
              "  </thead>\n",
              "  <tbody>\n",
              "    <tr>\n",
              "      <th>0</th>\n",
              "      <td>201912723049</td>\n",
              "      <td>ABI</td>\n",
              "      <td>1.00</td>\n",
              "      <td>MQ</td>\n",
              "      <td>736.00</td>\n",
              "      <td>DAB</td>\n",
              "      <td>1.00</td>\n",
              "    </tr>\n",
              "    <tr>\n",
              "      <th>1</th>\n",
              "      <td>201912723085</td>\n",
              "      <td>ABI</td>\n",
              "      <td>1.00</td>\n",
              "      <td>MQ</td>\n",
              "      <td>570.00</td>\n",
              "      <td>COS</td>\n",
              "      <td>1.00</td>\n",
              "    </tr>\n",
              "    <tr>\n",
              "      <th>2</th>\n",
              "      <td>201912723491</td>\n",
              "      <td>ABI</td>\n",
              "      <td>1.00</td>\n",
              "      <td>MQ</td>\n",
              "      <td>564.00</td>\n",
              "      <td>MCO</td>\n",
              "      <td>1.00</td>\n",
              "    </tr>\n",
              "    <tr>\n",
              "      <th>3</th>\n",
              "      <td>201912723428</td>\n",
              "      <td>ABI</td>\n",
              "      <td>1.00</td>\n",
              "      <td>MQ</td>\n",
              "      <td>345.00</td>\n",
              "      <td>LGA</td>\n",
              "      <td>1.00</td>\n",
              "    </tr>\n",
              "    <tr>\n",
              "      <th>10</th>\n",
              "      <td>201912723337</td>\n",
              "      <td>ABI</td>\n",
              "      <td>1.00</td>\n",
              "      <td>MQ</td>\n",
              "      <td>1647.00</td>\n",
              "      <td>JAX</td>\n",
              "      <td>1.00</td>\n",
              "    </tr>\n",
              "  </tbody>\n",
              "</table>\n",
              "</div>\n",
              "      <button class=\"colab-df-convert\" onclick=\"convertToInteractive('df-6138da63-0b31-4539-a3cd-dad657d1f6ae')\"\n",
              "              title=\"Convert this dataframe to an interactive table.\"\n",
              "              style=\"display:none;\">\n",
              "        \n",
              "  <svg xmlns=\"http://www.w3.org/2000/svg\" height=\"24px\"viewBox=\"0 0 24 24\"\n",
              "       width=\"24px\">\n",
              "    <path d=\"M0 0h24v24H0V0z\" fill=\"none\"/>\n",
              "    <path d=\"M18.56 5.44l.94 2.06.94-2.06 2.06-.94-2.06-.94-.94-2.06-.94 2.06-2.06.94zm-11 1L8.5 8.5l.94-2.06 2.06-.94-2.06-.94L8.5 2.5l-.94 2.06-2.06.94zm10 10l.94 2.06.94-2.06 2.06-.94-2.06-.94-.94-2.06-.94 2.06-2.06.94z\"/><path d=\"M17.41 7.96l-1.37-1.37c-.4-.4-.92-.59-1.43-.59-.52 0-1.04.2-1.43.59L10.3 9.45l-7.72 7.72c-.78.78-.78 2.05 0 2.83L4 21.41c.39.39.9.59 1.41.59.51 0 1.02-.2 1.41-.59l7.78-7.78 2.81-2.81c.8-.78.8-2.07 0-2.86zM5.41 20L4 18.59l7.72-7.72 1.47 1.35L5.41 20z\"/>\n",
              "  </svg>\n",
              "      </button>\n",
              "      \n",
              "  <style>\n",
              "    .colab-df-container {\n",
              "      display:flex;\n",
              "      flex-wrap:wrap;\n",
              "      gap: 12px;\n",
              "    }\n",
              "\n",
              "    .colab-df-convert {\n",
              "      background-color: #E8F0FE;\n",
              "      border: none;\n",
              "      border-radius: 50%;\n",
              "      cursor: pointer;\n",
              "      display: none;\n",
              "      fill: #1967D2;\n",
              "      height: 32px;\n",
              "      padding: 0 0 0 0;\n",
              "      width: 32px;\n",
              "    }\n",
              "\n",
              "    .colab-df-convert:hover {\n",
              "      background-color: #E2EBFA;\n",
              "      box-shadow: 0px 1px 2px rgba(60, 64, 67, 0.3), 0px 1px 3px 1px rgba(60, 64, 67, 0.15);\n",
              "      fill: #174EA6;\n",
              "    }\n",
              "\n",
              "    [theme=dark] .colab-df-convert {\n",
              "      background-color: #3B4455;\n",
              "      fill: #D2E3FC;\n",
              "    }\n",
              "\n",
              "    [theme=dark] .colab-df-convert:hover {\n",
              "      background-color: #434B5C;\n",
              "      box-shadow: 0px 1px 3px 1px rgba(0, 0, 0, 0.15);\n",
              "      filter: drop-shadow(0px 1px 2px rgba(0, 0, 0, 0.3));\n",
              "      fill: #FFFFFF;\n",
              "    }\n",
              "  </style>\n",
              "\n",
              "      <script>\n",
              "        const buttonEl =\n",
              "          document.querySelector('#df-6138da63-0b31-4539-a3cd-dad657d1f6ae button.colab-df-convert');\n",
              "        buttonEl.style.display =\n",
              "          google.colab.kernel.accessAllowed ? 'block' : 'none';\n",
              "\n",
              "        async function convertToInteractive(key) {\n",
              "          const element = document.querySelector('#df-6138da63-0b31-4539-a3cd-dad657d1f6ae');\n",
              "          const dataTable =\n",
              "            await google.colab.kernel.invokeFunction('convertToInteractive',\n",
              "                                                     [key], {});\n",
              "          if (!dataTable) return;\n",
              "\n",
              "          const docLinkHtml = 'Like what you see? Visit the ' +\n",
              "            '<a target=\"_blank\" href=https://colab.research.google.com/notebooks/data_table.ipynb>data table notebook</a>'\n",
              "            + ' to learn more about interactive tables.';\n",
              "          element.innerHTML = '';\n",
              "          dataTable['output_type'] = 'display_data';\n",
              "          await google.colab.output.renderOutput(dataTable, element);\n",
              "          const docLink = document.createElement('div');\n",
              "          docLink.innerHTML = docLinkHtml;\n",
              "          element.appendChild(docLink);\n",
              "        }\n",
              "      </script>\n",
              "    </div>\n",
              "  </div>\n",
              "  "
            ]
          },
          "metadata": {},
          "execution_count": 288
        }
      ],
      "source": [
        "df_tickets_rev.head(5)"
      ]
    },
    {
      "cell_type": "code",
      "execution_count": 289,
      "metadata": {
        "colab": {
          "base_uri": "https://localhost:8080/"
        },
        "id": "ZR2p9y2LWjPY",
        "outputId": "53c8b542-fb9d-40da-de33-da0c4105ceff"
      },
      "outputs": [
        {
          "output_type": "execute_result",
          "data": {
            "text/plain": [
              "(706849, 7)"
            ]
          },
          "metadata": {},
          "execution_count": 289
        }
      ],
      "source": [
        "df_tickets_rev.shape"
      ]
    },
    {
      "cell_type": "code",
      "execution_count": 290,
      "metadata": {
        "colab": {
          "base_uri": "https://localhost:8080/"
        },
        "id": "HI8BBUn83CVu",
        "outputId": "403a607f-16f6-4ef2-a12f-3375e07347d9"
      },
      "outputs": [
        {
          "output_type": "execute_result",
          "data": {
            "text/plain": [
              "ITIN_ID              0\n",
              "ORIGIN               0\n",
              "ROUNDTRIP            0\n",
              "REPORTING_CARRIER    0\n",
              "ITIN_FARE            0\n",
              "DESTINATION          0\n",
              "PASSENGERS           0\n",
              "dtype: int64"
            ]
          },
          "metadata": {},
          "execution_count": 290
        }
      ],
      "source": [
        "df_tickets_rev.isna().sum()"
      ]
    },
    {
      "cell_type": "code",
      "source": [
        "'''tickets dataframe to use. This is grouped by ORIGIN and DESTINATION to\n",
        "  get mean fare values '''\n",
        "\n",
        "df_tic_rev  = df_tickets_rev.groupby(['ORIGIN', 'DESTINATION']).agg({'ITIN_FARE': \n",
        "          'mean'}).round(2).rename(columns={'ITIN_FARE': 'AVG_FARE', 'ORIGIN':\n",
        "                                           'ORIGIN','DESTINATION':'DESTINATION'}).reset_index()"
      ],
      "metadata": {
        "id": "TmAUC7OyAyxH"
      },
      "execution_count": 297,
      "outputs": []
    },
    {
      "cell_type": "code",
      "source": [
        "df_tic_rev"
      ],
      "metadata": {
        "colab": {
          "base_uri": "https://localhost:8080/",
          "height": 419
        },
        "id": "QCUP-o4tKCE-",
        "outputId": "104293ba-1969-4ede-81b1-83a7fa152133"
      },
      "execution_count": 298,
      "outputs": [
        {
          "output_type": "execute_result",
          "data": {
            "text/plain": [
              "      ORIGIN DESTINATION  AVG_FARE\n",
              "0        ABE         ABQ    534.00\n",
              "1        ABE         AGS    299.00\n",
              "2        ABE         AMA    654.00\n",
              "3        ABE         ASE    742.00\n",
              "4        ABE         ATL    505.04\n",
              "...      ...         ...       ...\n",
              "40264    YUM         SMF    276.50\n",
              "40265    YUM         SRQ    696.00\n",
              "40266    YUM         TOL    335.00\n",
              "40267    YUM         TPA    544.33\n",
              "40268    YUM         TUL    576.00\n",
              "\n",
              "[40269 rows x 3 columns]"
            ],
            "text/html": [
              "\n",
              "  <div id=\"df-f6433f35-6291-4fb0-9973-817d58c74cd1\">\n",
              "    <div class=\"colab-df-container\">\n",
              "      <div>\n",
              "<style scoped>\n",
              "    .dataframe tbody tr th:only-of-type {\n",
              "        vertical-align: middle;\n",
              "    }\n",
              "\n",
              "    .dataframe tbody tr th {\n",
              "        vertical-align: top;\n",
              "    }\n",
              "\n",
              "    .dataframe thead th {\n",
              "        text-align: right;\n",
              "    }\n",
              "</style>\n",
              "<table border=\"1\" class=\"dataframe\">\n",
              "  <thead>\n",
              "    <tr style=\"text-align: right;\">\n",
              "      <th></th>\n",
              "      <th>ORIGIN</th>\n",
              "      <th>DESTINATION</th>\n",
              "      <th>AVG_FARE</th>\n",
              "    </tr>\n",
              "  </thead>\n",
              "  <tbody>\n",
              "    <tr>\n",
              "      <th>0</th>\n",
              "      <td>ABE</td>\n",
              "      <td>ABQ</td>\n",
              "      <td>534.00</td>\n",
              "    </tr>\n",
              "    <tr>\n",
              "      <th>1</th>\n",
              "      <td>ABE</td>\n",
              "      <td>AGS</td>\n",
              "      <td>299.00</td>\n",
              "    </tr>\n",
              "    <tr>\n",
              "      <th>2</th>\n",
              "      <td>ABE</td>\n",
              "      <td>AMA</td>\n",
              "      <td>654.00</td>\n",
              "    </tr>\n",
              "    <tr>\n",
              "      <th>3</th>\n",
              "      <td>ABE</td>\n",
              "      <td>ASE</td>\n",
              "      <td>742.00</td>\n",
              "    </tr>\n",
              "    <tr>\n",
              "      <th>4</th>\n",
              "      <td>ABE</td>\n",
              "      <td>ATL</td>\n",
              "      <td>505.04</td>\n",
              "    </tr>\n",
              "    <tr>\n",
              "      <th>...</th>\n",
              "      <td>...</td>\n",
              "      <td>...</td>\n",
              "      <td>...</td>\n",
              "    </tr>\n",
              "    <tr>\n",
              "      <th>40264</th>\n",
              "      <td>YUM</td>\n",
              "      <td>SMF</td>\n",
              "      <td>276.50</td>\n",
              "    </tr>\n",
              "    <tr>\n",
              "      <th>40265</th>\n",
              "      <td>YUM</td>\n",
              "      <td>SRQ</td>\n",
              "      <td>696.00</td>\n",
              "    </tr>\n",
              "    <tr>\n",
              "      <th>40266</th>\n",
              "      <td>YUM</td>\n",
              "      <td>TOL</td>\n",
              "      <td>335.00</td>\n",
              "    </tr>\n",
              "    <tr>\n",
              "      <th>40267</th>\n",
              "      <td>YUM</td>\n",
              "      <td>TPA</td>\n",
              "      <td>544.33</td>\n",
              "    </tr>\n",
              "    <tr>\n",
              "      <th>40268</th>\n",
              "      <td>YUM</td>\n",
              "      <td>TUL</td>\n",
              "      <td>576.00</td>\n",
              "    </tr>\n",
              "  </tbody>\n",
              "</table>\n",
              "<p>40269 rows × 3 columns</p>\n",
              "</div>\n",
              "      <button class=\"colab-df-convert\" onclick=\"convertToInteractive('df-f6433f35-6291-4fb0-9973-817d58c74cd1')\"\n",
              "              title=\"Convert this dataframe to an interactive table.\"\n",
              "              style=\"display:none;\">\n",
              "        \n",
              "  <svg xmlns=\"http://www.w3.org/2000/svg\" height=\"24px\"viewBox=\"0 0 24 24\"\n",
              "       width=\"24px\">\n",
              "    <path d=\"M0 0h24v24H0V0z\" fill=\"none\"/>\n",
              "    <path d=\"M18.56 5.44l.94 2.06.94-2.06 2.06-.94-2.06-.94-.94-2.06-.94 2.06-2.06.94zm-11 1L8.5 8.5l.94-2.06 2.06-.94-2.06-.94L8.5 2.5l-.94 2.06-2.06.94zm10 10l.94 2.06.94-2.06 2.06-.94-2.06-.94-.94-2.06-.94 2.06-2.06.94z\"/><path d=\"M17.41 7.96l-1.37-1.37c-.4-.4-.92-.59-1.43-.59-.52 0-1.04.2-1.43.59L10.3 9.45l-7.72 7.72c-.78.78-.78 2.05 0 2.83L4 21.41c.39.39.9.59 1.41.59.51 0 1.02-.2 1.41-.59l7.78-7.78 2.81-2.81c.8-.78.8-2.07 0-2.86zM5.41 20L4 18.59l7.72-7.72 1.47 1.35L5.41 20z\"/>\n",
              "  </svg>\n",
              "      </button>\n",
              "      \n",
              "  <style>\n",
              "    .colab-df-container {\n",
              "      display:flex;\n",
              "      flex-wrap:wrap;\n",
              "      gap: 12px;\n",
              "    }\n",
              "\n",
              "    .colab-df-convert {\n",
              "      background-color: #E8F0FE;\n",
              "      border: none;\n",
              "      border-radius: 50%;\n",
              "      cursor: pointer;\n",
              "      display: none;\n",
              "      fill: #1967D2;\n",
              "      height: 32px;\n",
              "      padding: 0 0 0 0;\n",
              "      width: 32px;\n",
              "    }\n",
              "\n",
              "    .colab-df-convert:hover {\n",
              "      background-color: #E2EBFA;\n",
              "      box-shadow: 0px 1px 2px rgba(60, 64, 67, 0.3), 0px 1px 3px 1px rgba(60, 64, 67, 0.15);\n",
              "      fill: #174EA6;\n",
              "    }\n",
              "\n",
              "    [theme=dark] .colab-df-convert {\n",
              "      background-color: #3B4455;\n",
              "      fill: #D2E3FC;\n",
              "    }\n",
              "\n",
              "    [theme=dark] .colab-df-convert:hover {\n",
              "      background-color: #434B5C;\n",
              "      box-shadow: 0px 1px 3px 1px rgba(0, 0, 0, 0.15);\n",
              "      filter: drop-shadow(0px 1px 2px rgba(0, 0, 0, 0.3));\n",
              "      fill: #FFFFFF;\n",
              "    }\n",
              "  </style>\n",
              "\n",
              "      <script>\n",
              "        const buttonEl =\n",
              "          document.querySelector('#df-f6433f35-6291-4fb0-9973-817d58c74cd1 button.colab-df-convert');\n",
              "        buttonEl.style.display =\n",
              "          google.colab.kernel.accessAllowed ? 'block' : 'none';\n",
              "\n",
              "        async function convertToInteractive(key) {\n",
              "          const element = document.querySelector('#df-f6433f35-6291-4fb0-9973-817d58c74cd1');\n",
              "          const dataTable =\n",
              "            await google.colab.kernel.invokeFunction('convertToInteractive',\n",
              "                                                     [key], {});\n",
              "          if (!dataTable) return;\n",
              "\n",
              "          const docLinkHtml = 'Like what you see? Visit the ' +\n",
              "            '<a target=\"_blank\" href=https://colab.research.google.com/notebooks/data_table.ipynb>data table notebook</a>'\n",
              "            + ' to learn more about interactive tables.';\n",
              "          element.innerHTML = '';\n",
              "          dataTable['output_type'] = 'display_data';\n",
              "          await google.colab.output.renderOutput(dataTable, element);\n",
              "          const docLink = document.createElement('div');\n",
              "          docLink.innerHTML = docLinkHtml;\n",
              "          element.appendChild(docLink);\n",
              "        }\n",
              "      </script>\n",
              "    </div>\n",
              "  </div>\n",
              "  "
            ]
          },
          "metadata": {},
          "execution_count": 298
        }
      ]
    },
    {
      "cell_type": "markdown",
      "source": [
        "# Part 3 - Analysis"
      ],
      "metadata": {
        "id": "dpW6nSZwMyEe"
      }
    },
    {
      "cell_type": "code",
      "execution_count": 295,
      "metadata": {
        "id": "4TaND7Whusyq"
      },
      "outputs": [],
      "source": [
        "# Get a list of airports of interest\n",
        "airports = set(list(df_airports_rev['IATA_CODE']))"
      ]
    },
    {
      "cell_type": "code",
      "execution_count": 301,
      "metadata": {
        "id": "0DI7dubguP1h"
      },
      "outputs": [],
      "source": [
        "# Limit the tickets dataframe to only in airports\n",
        "\n",
        "df_tic = df_tic_rev[(df_tic_rev['ORIGIN'].isin(airports) & \n",
        "                                df_tic_rev['DESTINATION'].isin(airports))]"
      ]
    },
    {
      "cell_type": "code",
      "execution_count": 300,
      "metadata": {
        "colab": {
          "base_uri": "https://localhost:8080/"
        },
        "id": "1DEdvV_uvsEt",
        "outputId": "6eb7301f-f6c7-44e3-cca1-f7272cd1b32c"
      },
      "outputs": [
        {
          "output_type": "execute_result",
          "data": {
            "text/plain": [
              "(38634, 3)"
            ]
          },
          "metadata": {},
          "execution_count": 300
        }
      ],
      "source": [
        "df_tic.shape"
      ]
    },
    {
      "cell_type": "code",
      "execution_count": 302,
      "metadata": {
        "id": "zVCZCa5mv1rA"
      },
      "outputs": [],
      "source": [
        "# Limit the flights dataframe to only in airports\n",
        "\n",
        "df_flights_rev = df_flights_rev[(df_flights_rev['ORIGIN'].isin(airports) & \n",
        "                                df_flights_rev['DESTINATION'].isin(airports))]"
      ]
    },
    {
      "cell_type": "code",
      "execution_count": 303,
      "metadata": {
        "colab": {
          "base_uri": "https://localhost:8080/"
        },
        "id": "6HiNdeWtv8RI",
        "outputId": "69a7eaba-2756-47b1-aa18-fd59d00c9031"
      },
      "outputs": [
        {
          "output_type": "execute_result",
          "data": {
            "text/plain": [
              "(1841261, 14)"
            ]
          },
          "metadata": {},
          "execution_count": 303
        }
      ],
      "source": [
        "df_flights_rev.shape"
      ]
    },
    {
      "cell_type": "code",
      "execution_count": 304,
      "metadata": {
        "colab": {
          "base_uri": "https://localhost:8080/"
        },
        "id": "bAshn51y5HNN",
        "outputId": "41d1c976-7e8e-4353-ca5a-63136bc59d3d"
      },
      "outputs": [
        {
          "output_type": "execute_result",
          "data": {
            "text/plain": [
              "FL_DATE              datetime64[ns]\n",
              "OP_CARRIER                   object\n",
              "OP_CARRIER_FL_NUM            object\n",
              "ORIGIN                       object\n",
              "DESTINATION                  object\n",
              "DEP_DELAY                   float64\n",
              "ARR_DELAY                   float64\n",
              "AIR_TIME                    float64\n",
              "DISTANCE                    float64\n",
              "OCCUPANCY_RATE              float64\n",
              "ORIGIN_TYPE                  object\n",
              "DESTINATION_TYPE             object\n",
              "AVG_DEP_DELAY               float64\n",
              "AVG_ARR_DELAY               float64\n",
              "dtype: object"
            ]
          },
          "metadata": {},
          "execution_count": 304
        }
      ],
      "source": [
        "df_flights_rev.dtypes"
      ]
    },
    {
      "cell_type": "code",
      "source": [
        "''' helper function to create a new merged dataframe from\n",
        "    flights and tickets dataframes '''\n",
        "\n",
        "def flights_tickets_merged(df_tic, df_flights):\n",
        "\n",
        "  ddf_tickets = dd.from_pandas(df_tic, npartitions = 10) \n",
        "  ddf_flights = dd.from_pandas(df_flights_rev, npartitions = 10) \n",
        "  flights_tickets = dd.merge(ddf_flights, ddf_tickets, on= ['ORIGIN', 'DESTINATION'])\n",
        "\n",
        "  # create a new column - ROUTE\n",
        "  flights_tickets['ROUTE'] = flights_tickets['ORIGIN'] + ', ' + flights_tickets['DESTINATION']\n",
        "\n",
        "  # create a new ID column which has unique ID for each round trip route\n",
        "  hash_func = lambda n: hash(\"-\".join(sorted(n)))\n",
        "  flights_tickets['ID'] = flights_tickets[['ORIGIN','DESTINATION']].apply(\n",
        "      hash_func, axis=1, meta=(None, 'int64'))\n",
        "\n",
        "  return flights_tickets\n"
      ],
      "metadata": {
        "id": "gtNq9yZvO6FD"
      },
      "execution_count": 310,
      "outputs": []
    },
    {
      "cell_type": "code",
      "source": [
        "flights_tickets = flights_tickets_merged(df_tic, df_flights)"
      ],
      "metadata": {
        "id": "PGiyj0pHPet8"
      },
      "execution_count": 311,
      "outputs": []
    },
    {
      "cell_type": "code",
      "execution_count": 312,
      "metadata": {
        "colab": {
          "base_uri": "https://localhost:8080/",
          "height": 353
        },
        "id": "TlSUCLnQal9N",
        "outputId": "2c89bba4-bc43-4ab5-b83d-9bfc7b92917c"
      },
      "outputs": [
        {
          "output_type": "execute_result",
          "data": {
            "text/plain": [
              "     FL_DATE OP_CARRIER OP_CARRIER_FL_NUM ORIGIN DESTINATION  DEP_DELAY  \\\n",
              "0 2019-03-01         YX              4512    PNS         MIA      13.00   \n",
              "1 2019-03-02         YX              4512    PNS         MIA     335.00   \n",
              "2 2019-03-03         YX              4512    PNS         MIA     -12.00   \n",
              "3 2019-03-04         YX              4512    PNS         MIA      -7.00   \n",
              "4 2019-03-05         YX              4512    PNS         MIA      -7.00   \n",
              "\n",
              "   ARR_DELAY  AIR_TIME  DISTANCE  OCCUPANCY_RATE     ORIGIN_TYPE  \\\n",
              "0      25.00     96.00    530.00            0.34  medium_airport   \n",
              "1     330.00     73.00    530.00            0.54  medium_airport   \n",
              "2     -26.00     71.00    530.00            0.63  medium_airport   \n",
              "3     -11.00     80.00    530.00            0.92  medium_airport   \n",
              "4      -5.00     80.00    530.00            0.98  medium_airport   \n",
              "\n",
              "  DESTINATION_TYPE  AVG_DEP_DELAY  AVG_ARR_DELAY  AVG_FARE     ROUTE  \\\n",
              "0    large_airport           5.45           4.15    453.38  PNS, MIA   \n",
              "1    large_airport           5.45           4.15    453.38  PNS, MIA   \n",
              "2    large_airport           5.45           4.15    453.38  PNS, MIA   \n",
              "3    large_airport           5.45           4.15    453.38  PNS, MIA   \n",
              "4    large_airport           5.45           4.15    453.38  PNS, MIA   \n",
              "\n",
              "                    ID  \n",
              "0 -2539721863916619444  \n",
              "1 -2539721863916619444  \n",
              "2 -2539721863916619444  \n",
              "3 -2539721863916619444  \n",
              "4 -2539721863916619444  "
            ],
            "text/html": [
              "\n",
              "  <div id=\"df-913e6d3f-c383-4dfa-8c38-f292c27fe1c3\">\n",
              "    <div class=\"colab-df-container\">\n",
              "      <div>\n",
              "<style scoped>\n",
              "    .dataframe tbody tr th:only-of-type {\n",
              "        vertical-align: middle;\n",
              "    }\n",
              "\n",
              "    .dataframe tbody tr th {\n",
              "        vertical-align: top;\n",
              "    }\n",
              "\n",
              "    .dataframe thead th {\n",
              "        text-align: right;\n",
              "    }\n",
              "</style>\n",
              "<table border=\"1\" class=\"dataframe\">\n",
              "  <thead>\n",
              "    <tr style=\"text-align: right;\">\n",
              "      <th></th>\n",
              "      <th>FL_DATE</th>\n",
              "      <th>OP_CARRIER</th>\n",
              "      <th>OP_CARRIER_FL_NUM</th>\n",
              "      <th>ORIGIN</th>\n",
              "      <th>DESTINATION</th>\n",
              "      <th>DEP_DELAY</th>\n",
              "      <th>ARR_DELAY</th>\n",
              "      <th>AIR_TIME</th>\n",
              "      <th>DISTANCE</th>\n",
              "      <th>OCCUPANCY_RATE</th>\n",
              "      <th>ORIGIN_TYPE</th>\n",
              "      <th>DESTINATION_TYPE</th>\n",
              "      <th>AVG_DEP_DELAY</th>\n",
              "      <th>AVG_ARR_DELAY</th>\n",
              "      <th>AVG_FARE</th>\n",
              "      <th>ROUTE</th>\n",
              "      <th>ID</th>\n",
              "    </tr>\n",
              "  </thead>\n",
              "  <tbody>\n",
              "    <tr>\n",
              "      <th>0</th>\n",
              "      <td>2019-03-01</td>\n",
              "      <td>YX</td>\n",
              "      <td>4512</td>\n",
              "      <td>PNS</td>\n",
              "      <td>MIA</td>\n",
              "      <td>13.00</td>\n",
              "      <td>25.00</td>\n",
              "      <td>96.00</td>\n",
              "      <td>530.00</td>\n",
              "      <td>0.34</td>\n",
              "      <td>medium_airport</td>\n",
              "      <td>large_airport</td>\n",
              "      <td>5.45</td>\n",
              "      <td>4.15</td>\n",
              "      <td>453.38</td>\n",
              "      <td>PNS, MIA</td>\n",
              "      <td>-2539721863916619444</td>\n",
              "    </tr>\n",
              "    <tr>\n",
              "      <th>1</th>\n",
              "      <td>2019-03-02</td>\n",
              "      <td>YX</td>\n",
              "      <td>4512</td>\n",
              "      <td>PNS</td>\n",
              "      <td>MIA</td>\n",
              "      <td>335.00</td>\n",
              "      <td>330.00</td>\n",
              "      <td>73.00</td>\n",
              "      <td>530.00</td>\n",
              "      <td>0.54</td>\n",
              "      <td>medium_airport</td>\n",
              "      <td>large_airport</td>\n",
              "      <td>5.45</td>\n",
              "      <td>4.15</td>\n",
              "      <td>453.38</td>\n",
              "      <td>PNS, MIA</td>\n",
              "      <td>-2539721863916619444</td>\n",
              "    </tr>\n",
              "    <tr>\n",
              "      <th>2</th>\n",
              "      <td>2019-03-03</td>\n",
              "      <td>YX</td>\n",
              "      <td>4512</td>\n",
              "      <td>PNS</td>\n",
              "      <td>MIA</td>\n",
              "      <td>-12.00</td>\n",
              "      <td>-26.00</td>\n",
              "      <td>71.00</td>\n",
              "      <td>530.00</td>\n",
              "      <td>0.63</td>\n",
              "      <td>medium_airport</td>\n",
              "      <td>large_airport</td>\n",
              "      <td>5.45</td>\n",
              "      <td>4.15</td>\n",
              "      <td>453.38</td>\n",
              "      <td>PNS, MIA</td>\n",
              "      <td>-2539721863916619444</td>\n",
              "    </tr>\n",
              "    <tr>\n",
              "      <th>3</th>\n",
              "      <td>2019-03-04</td>\n",
              "      <td>YX</td>\n",
              "      <td>4512</td>\n",
              "      <td>PNS</td>\n",
              "      <td>MIA</td>\n",
              "      <td>-7.00</td>\n",
              "      <td>-11.00</td>\n",
              "      <td>80.00</td>\n",
              "      <td>530.00</td>\n",
              "      <td>0.92</td>\n",
              "      <td>medium_airport</td>\n",
              "      <td>large_airport</td>\n",
              "      <td>5.45</td>\n",
              "      <td>4.15</td>\n",
              "      <td>453.38</td>\n",
              "      <td>PNS, MIA</td>\n",
              "      <td>-2539721863916619444</td>\n",
              "    </tr>\n",
              "    <tr>\n",
              "      <th>4</th>\n",
              "      <td>2019-03-05</td>\n",
              "      <td>YX</td>\n",
              "      <td>4512</td>\n",
              "      <td>PNS</td>\n",
              "      <td>MIA</td>\n",
              "      <td>-7.00</td>\n",
              "      <td>-5.00</td>\n",
              "      <td>80.00</td>\n",
              "      <td>530.00</td>\n",
              "      <td>0.98</td>\n",
              "      <td>medium_airport</td>\n",
              "      <td>large_airport</td>\n",
              "      <td>5.45</td>\n",
              "      <td>4.15</td>\n",
              "      <td>453.38</td>\n",
              "      <td>PNS, MIA</td>\n",
              "      <td>-2539721863916619444</td>\n",
              "    </tr>\n",
              "  </tbody>\n",
              "</table>\n",
              "</div>\n",
              "      <button class=\"colab-df-convert\" onclick=\"convertToInteractive('df-913e6d3f-c383-4dfa-8c38-f292c27fe1c3')\"\n",
              "              title=\"Convert this dataframe to an interactive table.\"\n",
              "              style=\"display:none;\">\n",
              "        \n",
              "  <svg xmlns=\"http://www.w3.org/2000/svg\" height=\"24px\"viewBox=\"0 0 24 24\"\n",
              "       width=\"24px\">\n",
              "    <path d=\"M0 0h24v24H0V0z\" fill=\"none\"/>\n",
              "    <path d=\"M18.56 5.44l.94 2.06.94-2.06 2.06-.94-2.06-.94-.94-2.06-.94 2.06-2.06.94zm-11 1L8.5 8.5l.94-2.06 2.06-.94-2.06-.94L8.5 2.5l-.94 2.06-2.06.94zm10 10l.94 2.06.94-2.06 2.06-.94-2.06-.94-.94-2.06-.94 2.06-2.06.94z\"/><path d=\"M17.41 7.96l-1.37-1.37c-.4-.4-.92-.59-1.43-.59-.52 0-1.04.2-1.43.59L10.3 9.45l-7.72 7.72c-.78.78-.78 2.05 0 2.83L4 21.41c.39.39.9.59 1.41.59.51 0 1.02-.2 1.41-.59l7.78-7.78 2.81-2.81c.8-.78.8-2.07 0-2.86zM5.41 20L4 18.59l7.72-7.72 1.47 1.35L5.41 20z\"/>\n",
              "  </svg>\n",
              "      </button>\n",
              "      \n",
              "  <style>\n",
              "    .colab-df-container {\n",
              "      display:flex;\n",
              "      flex-wrap:wrap;\n",
              "      gap: 12px;\n",
              "    }\n",
              "\n",
              "    .colab-df-convert {\n",
              "      background-color: #E8F0FE;\n",
              "      border: none;\n",
              "      border-radius: 50%;\n",
              "      cursor: pointer;\n",
              "      display: none;\n",
              "      fill: #1967D2;\n",
              "      height: 32px;\n",
              "      padding: 0 0 0 0;\n",
              "      width: 32px;\n",
              "    }\n",
              "\n",
              "    .colab-df-convert:hover {\n",
              "      background-color: #E2EBFA;\n",
              "      box-shadow: 0px 1px 2px rgba(60, 64, 67, 0.3), 0px 1px 3px 1px rgba(60, 64, 67, 0.15);\n",
              "      fill: #174EA6;\n",
              "    }\n",
              "\n",
              "    [theme=dark] .colab-df-convert {\n",
              "      background-color: #3B4455;\n",
              "      fill: #D2E3FC;\n",
              "    }\n",
              "\n",
              "    [theme=dark] .colab-df-convert:hover {\n",
              "      background-color: #434B5C;\n",
              "      box-shadow: 0px 1px 3px 1px rgba(0, 0, 0, 0.15);\n",
              "      filter: drop-shadow(0px 1px 2px rgba(0, 0, 0, 0.3));\n",
              "      fill: #FFFFFF;\n",
              "    }\n",
              "  </style>\n",
              "\n",
              "      <script>\n",
              "        const buttonEl =\n",
              "          document.querySelector('#df-913e6d3f-c383-4dfa-8c38-f292c27fe1c3 button.colab-df-convert');\n",
              "        buttonEl.style.display =\n",
              "          google.colab.kernel.accessAllowed ? 'block' : 'none';\n",
              "\n",
              "        async function convertToInteractive(key) {\n",
              "          const element = document.querySelector('#df-913e6d3f-c383-4dfa-8c38-f292c27fe1c3');\n",
              "          const dataTable =\n",
              "            await google.colab.kernel.invokeFunction('convertToInteractive',\n",
              "                                                     [key], {});\n",
              "          if (!dataTable) return;\n",
              "\n",
              "          const docLinkHtml = 'Like what you see? Visit the ' +\n",
              "            '<a target=\"_blank\" href=https://colab.research.google.com/notebooks/data_table.ipynb>data table notebook</a>'\n",
              "            + ' to learn more about interactive tables.';\n",
              "          element.innerHTML = '';\n",
              "          dataTable['output_type'] = 'display_data';\n",
              "          await google.colab.output.renderOutput(dataTable, element);\n",
              "          const docLink = document.createElement('div');\n",
              "          docLink.innerHTML = docLinkHtml;\n",
              "          element.appendChild(docLink);\n",
              "        }\n",
              "      </script>\n",
              "    </div>\n",
              "  </div>\n",
              "  "
            ]
          },
          "metadata": {},
          "execution_count": 312
        }
      ],
      "source": [
        "flights_tickets.head(5)"
      ]
    },
    {
      "cell_type": "markdown",
      "source": [
        "1. 10 Busiest round trips"
      ],
      "metadata": {
        "id": "gBJ7ojT-Pv96"
      }
    },
    {
      "cell_type": "code",
      "source": [
        "'''function to find the 10 busiest round trip routes by number of\n",
        "   round trip flights'''\n",
        "\n",
        "def busiest_rndtrips(flights_tickets):\n",
        "\n",
        "  new_df = flights_tickets.groupby(['ID', 'ORIGIN', 'DESTINATION', 'ROUTE']).agg({\n",
        "      'OP_CARRIER_FL_NUM': 'count'}).compute().sort_values(by = 'OP_CARRIER_FL_NUM', \n",
        "                                                           ascending = False).reset_index()\n",
        "  new_df['TOTAL_FLIGHTS'] = new_df.groupby('ID')['OP_CARRIER_FL_NUM'].transform('sum')  \n",
        "  new_df = new_df.drop_duplicates(subset=['ID'])\n",
        "  new_df = new_df.drop(columns=['ID','OP_CARRIER_FL_NUM'])\n",
        "\n",
        "  return new_df.nlargest(10, columns = ['TOTAL_FLIGHTS'])\n"
      ],
      "metadata": {
        "id": "Ku6NraizQJsP"
      },
      "execution_count": 362,
      "outputs": []
    },
    {
      "cell_type": "code",
      "source": [
        "busiest_trips = busiest_rndtrips(flights_tickets)"
      ],
      "metadata": {
        "id": "reQ6VWQjRK-G"
      },
      "execution_count": 363,
      "outputs": []
    },
    {
      "cell_type": "code",
      "source": [
        "busiest_trips"
      ],
      "metadata": {
        "colab": {
          "base_uri": "https://localhost:8080/",
          "height": 359
        },
        "id": "WyzLFMvqRpOn",
        "outputId": "88ca08bf-f8b0-4256-aa6c-ef60ce86954d"
      },
      "execution_count": 364,
      "outputs": [
        {
          "output_type": "execute_result",
          "data": {
            "text/plain": [
              "   ORIGIN DESTINATION     ROUTE  TOTAL_FLIGHTS\n",
              "0     SFO         LAX  SFO, LAX           8333\n",
              "2     ORD         LGA  ORD, LGA           7146\n",
              "4     LAX         LAS  LAX, LAS           6506\n",
              "6     LAX         JFK  LAX, JFK           6299\n",
              "8     LAX         SEA  LAX, SEA           4992\n",
              "10    LGA         BOS  LGA, BOS           4816\n",
              "12    HNL         OGG  HNL, OGG           4793\n",
              "13    PDX         SEA  PDX, SEA           4771\n",
              "16    ATL         MCO  ATL, MCO           4707\n",
              "18    ATL         LGA  ATL, LGA           4589"
            ],
            "text/html": [
              "\n",
              "  <div id=\"df-2f5a68a5-89af-445b-ba18-0bd3b0a15363\">\n",
              "    <div class=\"colab-df-container\">\n",
              "      <div>\n",
              "<style scoped>\n",
              "    .dataframe tbody tr th:only-of-type {\n",
              "        vertical-align: middle;\n",
              "    }\n",
              "\n",
              "    .dataframe tbody tr th {\n",
              "        vertical-align: top;\n",
              "    }\n",
              "\n",
              "    .dataframe thead th {\n",
              "        text-align: right;\n",
              "    }\n",
              "</style>\n",
              "<table border=\"1\" class=\"dataframe\">\n",
              "  <thead>\n",
              "    <tr style=\"text-align: right;\">\n",
              "      <th></th>\n",
              "      <th>ORIGIN</th>\n",
              "      <th>DESTINATION</th>\n",
              "      <th>ROUTE</th>\n",
              "      <th>TOTAL_FLIGHTS</th>\n",
              "    </tr>\n",
              "  </thead>\n",
              "  <tbody>\n",
              "    <tr>\n",
              "      <th>0</th>\n",
              "      <td>SFO</td>\n",
              "      <td>LAX</td>\n",
              "      <td>SFO, LAX</td>\n",
              "      <td>8333</td>\n",
              "    </tr>\n",
              "    <tr>\n",
              "      <th>2</th>\n",
              "      <td>ORD</td>\n",
              "      <td>LGA</td>\n",
              "      <td>ORD, LGA</td>\n",
              "      <td>7146</td>\n",
              "    </tr>\n",
              "    <tr>\n",
              "      <th>4</th>\n",
              "      <td>LAX</td>\n",
              "      <td>LAS</td>\n",
              "      <td>LAX, LAS</td>\n",
              "      <td>6506</td>\n",
              "    </tr>\n",
              "    <tr>\n",
              "      <th>6</th>\n",
              "      <td>LAX</td>\n",
              "      <td>JFK</td>\n",
              "      <td>LAX, JFK</td>\n",
              "      <td>6299</td>\n",
              "    </tr>\n",
              "    <tr>\n",
              "      <th>8</th>\n",
              "      <td>LAX</td>\n",
              "      <td>SEA</td>\n",
              "      <td>LAX, SEA</td>\n",
              "      <td>4992</td>\n",
              "    </tr>\n",
              "    <tr>\n",
              "      <th>10</th>\n",
              "      <td>LGA</td>\n",
              "      <td>BOS</td>\n",
              "      <td>LGA, BOS</td>\n",
              "      <td>4816</td>\n",
              "    </tr>\n",
              "    <tr>\n",
              "      <th>12</th>\n",
              "      <td>HNL</td>\n",
              "      <td>OGG</td>\n",
              "      <td>HNL, OGG</td>\n",
              "      <td>4793</td>\n",
              "    </tr>\n",
              "    <tr>\n",
              "      <th>13</th>\n",
              "      <td>PDX</td>\n",
              "      <td>SEA</td>\n",
              "      <td>PDX, SEA</td>\n",
              "      <td>4771</td>\n",
              "    </tr>\n",
              "    <tr>\n",
              "      <th>16</th>\n",
              "      <td>ATL</td>\n",
              "      <td>MCO</td>\n",
              "      <td>ATL, MCO</td>\n",
              "      <td>4707</td>\n",
              "    </tr>\n",
              "    <tr>\n",
              "      <th>18</th>\n",
              "      <td>ATL</td>\n",
              "      <td>LGA</td>\n",
              "      <td>ATL, LGA</td>\n",
              "      <td>4589</td>\n",
              "    </tr>\n",
              "  </tbody>\n",
              "</table>\n",
              "</div>\n",
              "      <button class=\"colab-df-convert\" onclick=\"convertToInteractive('df-2f5a68a5-89af-445b-ba18-0bd3b0a15363')\"\n",
              "              title=\"Convert this dataframe to an interactive table.\"\n",
              "              style=\"display:none;\">\n",
              "        \n",
              "  <svg xmlns=\"http://www.w3.org/2000/svg\" height=\"24px\"viewBox=\"0 0 24 24\"\n",
              "       width=\"24px\">\n",
              "    <path d=\"M0 0h24v24H0V0z\" fill=\"none\"/>\n",
              "    <path d=\"M18.56 5.44l.94 2.06.94-2.06 2.06-.94-2.06-.94-.94-2.06-.94 2.06-2.06.94zm-11 1L8.5 8.5l.94-2.06 2.06-.94-2.06-.94L8.5 2.5l-.94 2.06-2.06.94zm10 10l.94 2.06.94-2.06 2.06-.94-2.06-.94-.94-2.06-.94 2.06-2.06.94z\"/><path d=\"M17.41 7.96l-1.37-1.37c-.4-.4-.92-.59-1.43-.59-.52 0-1.04.2-1.43.59L10.3 9.45l-7.72 7.72c-.78.78-.78 2.05 0 2.83L4 21.41c.39.39.9.59 1.41.59.51 0 1.02-.2 1.41-.59l7.78-7.78 2.81-2.81c.8-.78.8-2.07 0-2.86zM5.41 20L4 18.59l7.72-7.72 1.47 1.35L5.41 20z\"/>\n",
              "  </svg>\n",
              "      </button>\n",
              "      \n",
              "  <style>\n",
              "    .colab-df-container {\n",
              "      display:flex;\n",
              "      flex-wrap:wrap;\n",
              "      gap: 12px;\n",
              "    }\n",
              "\n",
              "    .colab-df-convert {\n",
              "      background-color: #E8F0FE;\n",
              "      border: none;\n",
              "      border-radius: 50%;\n",
              "      cursor: pointer;\n",
              "      display: none;\n",
              "      fill: #1967D2;\n",
              "      height: 32px;\n",
              "      padding: 0 0 0 0;\n",
              "      width: 32px;\n",
              "    }\n",
              "\n",
              "    .colab-df-convert:hover {\n",
              "      background-color: #E2EBFA;\n",
              "      box-shadow: 0px 1px 2px rgba(60, 64, 67, 0.3), 0px 1px 3px 1px rgba(60, 64, 67, 0.15);\n",
              "      fill: #174EA6;\n",
              "    }\n",
              "\n",
              "    [theme=dark] .colab-df-convert {\n",
              "      background-color: #3B4455;\n",
              "      fill: #D2E3FC;\n",
              "    }\n",
              "\n",
              "    [theme=dark] .colab-df-convert:hover {\n",
              "      background-color: #434B5C;\n",
              "      box-shadow: 0px 1px 3px 1px rgba(0, 0, 0, 0.15);\n",
              "      filter: drop-shadow(0px 1px 2px rgba(0, 0, 0, 0.3));\n",
              "      fill: #FFFFFF;\n",
              "    }\n",
              "  </style>\n",
              "\n",
              "      <script>\n",
              "        const buttonEl =\n",
              "          document.querySelector('#df-2f5a68a5-89af-445b-ba18-0bd3b0a15363 button.colab-df-convert');\n",
              "        buttonEl.style.display =\n",
              "          google.colab.kernel.accessAllowed ? 'block' : 'none';\n",
              "\n",
              "        async function convertToInteractive(key) {\n",
              "          const element = document.querySelector('#df-2f5a68a5-89af-445b-ba18-0bd3b0a15363');\n",
              "          const dataTable =\n",
              "            await google.colab.kernel.invokeFunction('convertToInteractive',\n",
              "                                                     [key], {});\n",
              "          if (!dataTable) return;\n",
              "\n",
              "          const docLinkHtml = 'Like what you see? Visit the ' +\n",
              "            '<a target=\"_blank\" href=https://colab.research.google.com/notebooks/data_table.ipynb>data table notebook</a>'\n",
              "            + ' to learn more about interactive tables.';\n",
              "          element.innerHTML = '';\n",
              "          dataTable['output_type'] = 'display_data';\n",
              "          await google.colab.output.renderOutput(dataTable, element);\n",
              "          const docLink = document.createElement('div');\n",
              "          docLink.innerHTML = docLinkHtml;\n",
              "          element.appendChild(docLink);\n",
              "        }\n",
              "      </script>\n",
              "    </div>\n",
              "  </div>\n",
              "  "
            ]
          },
          "metadata": {},
          "execution_count": 364
        }
      ]
    },
    {
      "cell_type": "code",
      "source": [
        "chrt = busiest_trips.plot.bar(x = 'ROUTE', y = 'TOTAL_FLIGHTS', color='#a98d19')"
      ],
      "metadata": {
        "colab": {
          "base_uri": "https://localhost:8080/",
          "height": 319
        },
        "id": "rwk1j5dLxR-6",
        "outputId": "c6b0d044-2352-4ff2-893f-8ffc4fc4c9fc"
      },
      "execution_count": 371,
      "outputs": [
        {
          "output_type": "display_data",
          "data": {
            "text/plain": [
              "<Figure size 432x288 with 1 Axes>"
            ],
            "image/png": "[encoded data removed]"
          },
          "metadata": {
            "needs_background": "light"
          }
        }
      ]
    },
    {
      "cell_type": "markdown",
      "source": [
        "2. 10 Most profitable round trips"
      ],
      "metadata": {
        "id": "9WnHGvLwbFfs"
      }
    },
    {
      "cell_type": "code",
      "source": [
        "''' function to find the total cost '''\n",
        "\n",
        "def get_cost(miles, origin_type, destination_type, \n",
        "             dep_delay, arr_delay):\n",
        "  \n",
        "  per_mile_costs = 9.18 * miles\n",
        "\n",
        "  airport_cost = 0\n",
        "  if origin_type == 'medium_airport' and destination_type == 'medium_airport':\n",
        "    airport_cost = 10000\n",
        "  elif origin_type == 'large_airport' and destination_type == 'large_airport':\n",
        "    airport_cost = 20000\n",
        "  else:\n",
        "    airport_cost = 15000\n",
        "\n",
        "  delay_cost = 0\n",
        "  if dep_delay > 15:\n",
        "    delay_cost += (dep_delay - 15)*75\n",
        "\n",
        "  if arr_delay > 15:\n",
        "    delay_cost += (arr_delay - 15)*75\n",
        "\n",
        "  return per_mile_costs + airport_cost + delay_cost"
      ],
      "metadata": {
        "id": "txBYXRRwCUQc"
      },
      "execution_count": 334,
      "outputs": []
    },
    {
      "cell_type": "code",
      "source": [
        "''' Update flights_tickets dataset '''\n",
        "\n",
        "def add_info(flights_tickets):\n",
        "\n",
        "  # Get the passenger count\n",
        "  flights_tickets['PASSENGER_COUNT'] = flights_tickets['OCCUPANCY_RATE']*200\n",
        "\n",
        "  # Get the baggage revenue for round trip\n",
        "  flights_tickets['BAGGAGE_REVENUE'] = flights_tickets['PASSENGER_COUNT']*0.5*35*2 \n",
        "\n",
        "  # Get total costs\n",
        "  flights_tickets['TOTAL_COSTS'] = flights_tickets.apply(lambda row: get_cost(\n",
        "    row['DISTANCE'],row['ORIGIN_TYPE'],row['DESTINATION_TYPE'],\n",
        "     row['DEP_DELAY'],row['ARR_DELAY']), axis=1, meta=(None, 'float64'))\n",
        "  \n",
        "  # Get ticket revenue\n",
        "  flights_tickets['TICKET_REVENUE'] = flights_tickets['PASSENGER_COUNT'] * flights_tickets['AVG_FARE']\n",
        "\n",
        "  # Get total revenue\n",
        "  flights_tickets['TOTAL_REVENUE'] = flights_tickets['TICKET_REVENUE'] + flights_tickets['BAGGAGE_REVENUE']\n",
        "\n",
        "  # Get profit\n",
        "  flights_tickets['PROFIT'] = flights_tickets['TOTAL_REVENUE']  - flights_tickets['TOTAL_COSTS']\n",
        "\n",
        "  return flights_tickets"
      ],
      "metadata": {
        "id": "1ZhYg13diqam"
      },
      "execution_count": 335,
      "outputs": []
    },
    {
      "cell_type": "code",
      "source": [
        "''' function to find the 10 most profitable round trips '''\n",
        "\n",
        "def most_profitable(flights_tickets):\n",
        "\n",
        "  agg_func = {'TOTAL_REVENUE': 'sum',\n",
        "              'TOTAL_COSTS': 'sum' ,'PROFIT': 'sum','PASSENGER_COUNT':'sum'}\n",
        "  profit_df = flights_tickets.groupby(['ID', 'ORIGIN', 'DESTINATION']).agg(agg_func).compute(\n",
        "                ).sort_values(by = 'PROFIT',ascending = False).reset_index()\n",
        "\n",
        "  profit_df['TOTAL_PROFIT'] = profit_df.groupby('ID')['PROFIT'].transform('sum')\n",
        "  profit_df = profit_df.drop_duplicates(subset=['ID'])    \n",
        "  profit_df = profit_df.drop(columns=['ID','PROFIT'])          \n",
        "  profit_df = profit_df.sort_values(by = 'TOTAL_PROFIT',ascending = False)\n",
        "\n",
        "  return profit_df.nlargest(10, columns = ['TOTAL_PROFIT'])"
      ],
      "metadata": {
        "id": "BDZBpR-ub2o7"
      },
      "execution_count": 357,
      "outputs": []
    },
    {
      "cell_type": "code",
      "source": [
        "flights_tickets = add_info(flights_tickets)"
      ],
      "metadata": {
        "id": "2vaNC1q0i-Ch"
      },
      "execution_count": 358,
      "outputs": []
    },
    {
      "cell_type": "code",
      "source": [
        "most_profitable = most_profitable(flights_tickets)"
      ],
      "metadata": {
        "id": "tQdzOVoOdLeh"
      },
      "execution_count": 359,
      "outputs": []
    },
    {
      "cell_type": "code",
      "source": [
        "most_profitable"
      ],
      "metadata": {
        "colab": {
          "base_uri": "https://localhost:8080/",
          "height": 359
        },
        "id": "N4buSRandQ8h",
        "outputId": "f56cae1b-d366-4d11-d968-6dd41a6205cf"
      },
      "execution_count": 360,
      "outputs": [
        {
          "output_type": "execute_result",
          "data": {
            "text/plain": [
              "   ORIGIN DESTINATION  TOTAL_REVENUE  TOTAL_COSTS  PASSENGER_COUNT  \\\n",
              "1     JFK         LAX   406711411.32 137480245.00        406228.00   \n",
              "0     SLC         TWF   339381948.50   4504764.00         34526.00   \n",
              "3     JFK         SFO   244799867.70  84662072.16        241370.00   \n",
              "4     SFO         EWR   173722692.00  55831635.30        157144.00   \n",
              "6     DCA         ORD   133323163.72  50370193.88        238358.00   \n",
              "7     ATL         LGA   148136977.66  65808132.52        301502.00   \n",
              "13    LAX         ATL   138178118.00  59609670.34        199420.00   \n",
              "10    ORD         LGA   188222941.20 106618010.50        464404.00   \n",
              "11    SFO         LAX   186692889.12 106583855.50        545232.00   \n",
              "18    LGA         DCA   113049766.62  40033047.64        219042.00   \n",
              "\n",
              "    TOTAL_PROFIT  \n",
              "1   534724291.22  \n",
              "0   344222113.76  \n",
              "3   239991148.02  \n",
              "4   235723318.70  \n",
              "6   164677877.48  \n",
              "7   164417165.82  \n",
              "13  155297865.78  \n",
              "10  154622547.98  \n",
              "11  141942930.38  \n",
              "18  141850451.34  "
            ],
            "text/html": [
              "\n",
              "  <div id=\"df-9f9b4211-a370-4474-bca2-aa947840bd75\">\n",
              "    <div class=\"colab-df-container\">\n",
              "      <div>\n",
              "<style scoped>\n",
              "    .dataframe tbody tr th:only-of-type {\n",
              "        vertical-align: middle;\n",
              "    }\n",
              "\n",
              "    .dataframe tbody tr th {\n",
              "        vertical-align: top;\n",
              "    }\n",
              "\n",
              "    .dataframe thead th {\n",
              "        text-align: right;\n",
              "    }\n",
              "</style>\n",
              "<table border=\"1\" class=\"dataframe\">\n",
              "  <thead>\n",
              "    <tr style=\"text-align: right;\">\n",
              "      <th></th>\n",
              "      <th>ORIGIN</th>\n",
              "      <th>DESTINATION</th>\n",
              "      <th>TOTAL_REVENUE</th>\n",
              "      <th>TOTAL_COSTS</th>\n",
              "      <th>PASSENGER_COUNT</th>\n",
              "      <th>TOTAL_PROFIT</th>\n",
              "    </tr>\n",
              "  </thead>\n",
              "  <tbody>\n",
              "    <tr>\n",
              "      <th>1</th>\n",
              "      <td>JFK</td>\n",
              "      <td>LAX</td>\n",
              "      <td>406711411.32</td>\n",
              "      <td>137480245.00</td>\n",
              "      <td>406228.00</td>\n",
              "      <td>534724291.22</td>\n",
              "    </tr>\n",
              "    <tr>\n",
              "      <th>0</th>\n",
              "      <td>SLC</td>\n",
              "      <td>TWF</td>\n",
              "      <td>339381948.50</td>\n",
              "      <td>4504764.00</td>\n",
              "      <td>34526.00</td>\n",
              "      <td>344222113.76</td>\n",
              "    </tr>\n",
              "    <tr>\n",
              "      <th>3</th>\n",
              "      <td>JFK</td>\n",
              "      <td>SFO</td>\n",
              "      <td>244799867.70</td>\n",
              "      <td>84662072.16</td>\n",
              "      <td>241370.00</td>\n",
              "      <td>239991148.02</td>\n",
              "    </tr>\n",
              "    <tr>\n",
              "      <th>4</th>\n",
              "      <td>SFO</td>\n",
              "      <td>EWR</td>\n",
              "      <td>173722692.00</td>\n",
              "      <td>55831635.30</td>\n",
              "      <td>157144.00</td>\n",
              "      <td>235723318.70</td>\n",
              "    </tr>\n",
              "    <tr>\n",
              "      <th>6</th>\n",
              "      <td>DCA</td>\n",
              "      <td>ORD</td>\n",
              "      <td>133323163.72</td>\n",
              "      <td>50370193.88</td>\n",
              "      <td>238358.00</td>\n",
              "      <td>164677877.48</td>\n",
              "    </tr>\n",
              "    <tr>\n",
              "      <th>7</th>\n",
              "      <td>ATL</td>\n",
              "      <td>LGA</td>\n",
              "      <td>148136977.66</td>\n",
              "      <td>65808132.52</td>\n",
              "      <td>301502.00</td>\n",
              "      <td>164417165.82</td>\n",
              "    </tr>\n",
              "    <tr>\n",
              "      <th>13</th>\n",
              "      <td>LAX</td>\n",
              "      <td>ATL</td>\n",
              "      <td>138178118.00</td>\n",
              "      <td>59609670.34</td>\n",
              "      <td>199420.00</td>\n",
              "      <td>155297865.78</td>\n",
              "    </tr>\n",
              "    <tr>\n",
              "      <th>10</th>\n",
              "      <td>ORD</td>\n",
              "      <td>LGA</td>\n",
              "      <td>188222941.20</td>\n",
              "      <td>106618010.50</td>\n",
              "      <td>464404.00</td>\n",
              "      <td>154622547.98</td>\n",
              "    </tr>\n",
              "    <tr>\n",
              "      <th>11</th>\n",
              "      <td>SFO</td>\n",
              "      <td>LAX</td>\n",
              "      <td>186692889.12</td>\n",
              "      <td>106583855.50</td>\n",
              "      <td>545232.00</td>\n",
              "      <td>141942930.38</td>\n",
              "    </tr>\n",
              "    <tr>\n",
              "      <th>18</th>\n",
              "      <td>LGA</td>\n",
              "      <td>DCA</td>\n",
              "      <td>113049766.62</td>\n",
              "      <td>40033047.64</td>\n",
              "      <td>219042.00</td>\n",
              "      <td>141850451.34</td>\n",
              "    </tr>\n",
              "  </tbody>\n",
              "</table>\n",
              "</div>\n",
              "      <button class=\"colab-df-convert\" onclick=\"convertToInteractive('df-9f9b4211-a370-4474-bca2-aa947840bd75')\"\n",
              "              title=\"Convert this dataframe to an interactive table.\"\n",
              "              style=\"display:none;\">\n",
              "        \n",
              "  <svg xmlns=\"http://www.w3.org/2000/svg\" height=\"24px\"viewBox=\"0 0 24 24\"\n",
              "       width=\"24px\">\n",
              "    <path d=\"M0 0h24v24H0V0z\" fill=\"none\"/>\n",
              "    <path d=\"M18.56 5.44l.94 2.06.94-2.06 2.06-.94-2.06-.94-.94-2.06-.94 2.06-2.06.94zm-11 1L8.5 8.5l.94-2.06 2.06-.94-2.06-.94L8.5 2.5l-.94 2.06-2.06.94zm10 10l.94 2.06.94-2.06 2.06-.94-2.06-.94-.94-2.06-.94 2.06-2.06.94z\"/><path d=\"M17.41 7.96l-1.37-1.37c-.4-.4-.92-.59-1.43-.59-.52 0-1.04.2-1.43.59L10.3 9.45l-7.72 7.72c-.78.78-.78 2.05 0 2.83L4 21.41c.39.39.9.59 1.41.59.51 0 1.02-.2 1.41-.59l7.78-7.78 2.81-2.81c.8-.78.8-2.07 0-2.86zM5.41 20L4 18.59l7.72-7.72 1.47 1.35L5.41 20z\"/>\n",
              "  </svg>\n",
              "      </button>\n",
              "      \n",
              "  <style>\n",
              "    .colab-df-container {\n",
              "      display:flex;\n",
              "      flex-wrap:wrap;\n",
              "      gap: 12px;\n",
              "    }\n",
              "\n",
              "    .colab-df-convert {\n",
              "      background-color: #E8F0FE;\n",
              "      border: none;\n",
              "      border-radius: 50%;\n",
              "      cursor: pointer;\n",
              "      display: none;\n",
              "      fill: #1967D2;\n",
              "      height: 32px;\n",
              "      padding: 0 0 0 0;\n",
              "      width: 32px;\n",
              "    }\n",
              "\n",
              "    .colab-df-convert:hover {\n",
              "      background-color: #E2EBFA;\n",
              "      box-shadow: 0px 1px 2px rgba(60, 64, 67, 0.3), 0px 1px 3px 1px rgba(60, 64, 67, 0.15);\n",
              "      fill: #174EA6;\n",
              "    }\n",
              "\n",
              "    [theme=dark] .colab-df-convert {\n",
              "      background-color: #3B4455;\n",
              "      fill: #D2E3FC;\n",
              "    }\n",
              "\n",
              "    [theme=dark] .colab-df-convert:hover {\n",
              "      background-color: #434B5C;\n",
              "      box-shadow: 0px 1px 3px 1px rgba(0, 0, 0, 0.15);\n",
              "      filter: drop-shadow(0px 1px 2px rgba(0, 0, 0, 0.3));\n",
              "      fill: #FFFFFF;\n",
              "    }\n",
              "  </style>\n",
              "\n",
              "      <script>\n",
              "        const buttonEl =\n",
              "          document.querySelector('#df-9f9b4211-a370-4474-bca2-aa947840bd75 button.colab-df-convert');\n",
              "        buttonEl.style.display =\n",
              "          google.colab.kernel.accessAllowed ? 'block' : 'none';\n",
              "\n",
              "        async function convertToInteractive(key) {\n",
              "          const element = document.querySelector('#df-9f9b4211-a370-4474-bca2-aa947840bd75');\n",
              "          const dataTable =\n",
              "            await google.colab.kernel.invokeFunction('convertToInteractive',\n",
              "                                                     [key], {});\n",
              "          if (!dataTable) return;\n",
              "\n",
              "          const docLinkHtml = 'Like what you see? Visit the ' +\n",
              "            '<a target=\"_blank\" href=https://colab.research.google.com/notebooks/data_table.ipynb>data table notebook</a>'\n",
              "            + ' to learn more about interactive tables.';\n",
              "          element.innerHTML = '';\n",
              "          dataTable['output_type'] = 'display_data';\n",
              "          await google.colab.output.renderOutput(dataTable, element);\n",
              "          const docLink = document.createElement('div');\n",
              "          docLink.innerHTML = docLinkHtml;\n",
              "          element.appendChild(docLink);\n",
              "        }\n",
              "      </script>\n",
              "    </div>\n",
              "  </div>\n",
              "  "
            ]
          },
          "metadata": {},
          "execution_count": 360
        }
      ]
    },
    {
      "cell_type": "markdown",
      "source": [
        "3. 5 Recommended Round Trips"
      ],
      "metadata": {
        "id": "pugsyfqShVot"
      }
    },
    {
      "cell_type": "code",
      "source": [
        "''' creating a correlation matrix (using Pearson's Correlation) to see which \n",
        "    dimension affect profit the most'''\n",
        "\n",
        "corr_mat = flights_tickets.corr().compute()"
      ],
      "metadata": {
        "id": "MXtFDX_GNk5t"
      },
      "execution_count": 340,
      "outputs": []
    },
    {
      "cell_type": "code",
      "source": [
        "fig, ax = plt.subplots(figsize=(10,10))\n",
        "dataplot = sb.heatmap(corr_mat, cmap=\"YlGnBu\", annot=True, ax=ax,fmt=\".2f\")"
      ],
      "metadata": {
        "colab": {
          "base_uri": "https://localhost:8080/",
          "height": 688
        },
        "id": "5GMTrdsEx4K2",
        "outputId": "553a8666-c51c-4e11-bd0f-b0277ebec9f5"
      },
      "execution_count": 341,
      "outputs": [
        {
          "output_type": "display_data",
          "data": {
            "text/plain": [
              "<Figure size 720x720 with 2 Axes>"
            ],
            "image/png": "[encoded data removed]"
          },
          "metadata": {
            "needs_background": "light"
          }
        }
      ]
    },
    {
      "cell_type": "code",
      "source": [
        "flights_tickets.head(5)"
      ],
      "metadata": {
        "colab": {
          "base_uri": "https://localhost:8080/",
          "height": 382
        },
        "id": "BuBtI1ptFYPf",
        "outputId": "0c292a58-b0b7-4203-f651-64faf6eb2746"
      },
      "execution_count": 342,
      "outputs": [
        {
          "output_type": "execute_result",
          "data": {
            "text/plain": [
              "     FL_DATE OP_CARRIER OP_CARRIER_FL_NUM ORIGIN DESTINATION  DEP_DELAY  \\\n",
              "0 2019-01-01         DL               854    RNO         MSP      32.00   \n",
              "1 2019-01-02         DL               854    RNO         MSP      28.00   \n",
              "2 2019-03-13         OO              3784    CID         MSP      15.00   \n",
              "3 2019-03-13         OO              3809    CID         MSP     107.00   \n",
              "4 2019-03-13         OO              4687    CID         MSP     325.00   \n",
              "\n",
              "   ARR_DELAY  AIR_TIME  DISTANCE  OCCUPANCY_RATE  ... AVG_ARR_DELAY AVG_FARE  \\\n",
              "0      60.00    193.00   1405.00            0.76  ...         49.00   513.37   \n",
              "1      38.00    183.00   1405.00            0.88  ...         49.00   513.37   \n",
              "2      41.00     48.00    220.00            0.46  ...         22.94   512.67   \n",
              "3      89.00     45.00    220.00            0.96  ...         22.94   512.67   \n",
              "4     312.00     46.00    220.00            0.60  ...         22.94   512.67   \n",
              "\n",
              "      ROUTE                   ID  PASSENGER_COUNT BAGGAGE_REVENUE  \\\n",
              "0  RNO, MSP   390089390591037712           152.00         5320.00   \n",
              "1  RNO, MSP   390089390591037712           176.00         6160.00   \n",
              "2  CID, MSP -6397834700776843811            92.00         3220.00   \n",
              "3  CID, MSP -6397834700776843811           192.00         6720.00   \n",
              "4  CID, MSP -6397834700776843811           120.00         4200.00   \n",
              "\n",
              "   TOTAL_COSTS  TICKET_REVENUE  TOTAL_REVENUE   PROFIT  \n",
              "0     37547.90        78032.24       83352.24 45804.34  \n",
              "1     35597.90        90353.12       96513.12 60915.22  \n",
              "2     23969.60        47165.64       50385.64 26416.04  \n",
              "3     34469.60        98432.64      105152.64 70683.04  \n",
              "4     67544.60        61520.40       65720.40 -1824.20  \n",
              "\n",
              "[5 rows x 23 columns]"
            ],
            "text/html": [
              "\n",
              "  <div id=\"df-22a05bb5-2e46-4e90-9ab5-d372519897c1\">\n",
              "    <div class=\"colab-df-container\">\n",
              "      <div>\n",
              "<style scoped>\n",
              "    .dataframe tbody tr th:only-of-type {\n",
              "        vertical-align: middle;\n",
              "    }\n",
              "\n",
              "    .dataframe tbody tr th {\n",
              "        vertical-align: top;\n",
              "    }\n",
              "\n",
              "    .dataframe thead th {\n",
              "        text-align: right;\n",
              "    }\n",
              "</style>\n",
              "<table border=\"1\" class=\"dataframe\">\n",
              "  <thead>\n",
              "    <tr style=\"text-align: right;\">\n",
              "      <th></th>\n",
              "      <th>FL_DATE</th>\n",
              "      <th>OP_CARRIER</th>\n",
              "      <th>OP_CARRIER_FL_NUM</th>\n",
              "      <th>ORIGIN</th>\n",
              "      <th>DESTINATION</th>\n",
              "      <th>DEP_DELAY</th>\n",
              "      <th>ARR_DELAY</th>\n",
              "      <th>AIR_TIME</th>\n",
              "      <th>DISTANCE</th>\n",
              "      <th>OCCUPANCY_RATE</th>\n",
              "      <th>...</th>\n",
              "      <th>AVG_ARR_DELAY</th>\n",
              "      <th>AVG_FARE</th>\n",
              "      <th>ROUTE</th>\n",
              "      <th>ID</th>\n",
              "      <th>PASSENGER_COUNT</th>\n",
              "      <th>BAGGAGE_REVENUE</th>\n",
              "      <th>TOTAL_COSTS</th>\n",
              "      <th>TICKET_REVENUE</th>\n",
              "      <th>TOTAL_REVENUE</th>\n",
              "      <th>PROFIT</th>\n",
              "    </tr>\n",
              "  </thead>\n",
              "  <tbody>\n",
              "    <tr>\n",
              "      <th>0</th>\n",
              "      <td>2019-01-01</td>\n",
              "      <td>DL</td>\n",
              "      <td>854</td>\n",
              "      <td>RNO</td>\n",
              "      <td>MSP</td>\n",
              "      <td>32.00</td>\n",
              "      <td>60.00</td>\n",
              "      <td>193.00</td>\n",
              "      <td>1405.00</td>\n",
              "      <td>0.76</td>\n",
              "      <td>...</td>\n",
              "      <td>49.00</td>\n",
              "      <td>513.37</td>\n",
              "      <td>RNO, MSP</td>\n",
              "      <td>390089390591037712</td>\n",
              "      <td>152.00</td>\n",
              "      <td>5320.00</td>\n",
              "      <td>37547.90</td>\n",
              "      <td>78032.24</td>\n",
              "      <td>83352.24</td>\n",
              "      <td>45804.34</td>\n",
              "    </tr>\n",
              "    <tr>\n",
              "      <th>1</th>\n",
              "      <td>2019-01-02</td>\n",
              "      <td>DL</td>\n",
              "      <td>854</td>\n",
              "      <td>RNO</td>\n",
              "      <td>MSP</td>\n",
              "      <td>28.00</td>\n",
              "      <td>38.00</td>\n",
              "      <td>183.00</td>\n",
              "      <td>1405.00</td>\n",
              "      <td>0.88</td>\n",
              "      <td>...</td>\n",
              "      <td>49.00</td>\n",
              "      <td>513.37</td>\n",
              "      <td>RNO, MSP</td>\n",
              "      <td>390089390591037712</td>\n",
              "      <td>176.00</td>\n",
              "      <td>6160.00</td>\n",
              "      <td>35597.90</td>\n",
              "      <td>90353.12</td>\n",
              "      <td>96513.12</td>\n",
              "      <td>60915.22</td>\n",
              "    </tr>\n",
              "    <tr>\n",
              "      <th>2</th>\n",
              "      <td>2019-03-13</td>\n",
              "      <td>OO</td>\n",
              "      <td>3784</td>\n",
              "      <td>CID</td>\n",
              "      <td>MSP</td>\n",
              "      <td>15.00</td>\n",
              "      <td>41.00</td>\n",
              "      <td>48.00</td>\n",
              "      <td>220.00</td>\n",
              "      <td>0.46</td>\n",
              "      <td>...</td>\n",
              "      <td>22.94</td>\n",
              "      <td>512.67</td>\n",
              "      <td>CID, MSP</td>\n",
              "      <td>-6397834700776843811</td>\n",
              "      <td>92.00</td>\n",
              "      <td>3220.00</td>\n",
              "      <td>23969.60</td>\n",
              "      <td>47165.64</td>\n",
              "      <td>50385.64</td>\n",
              "      <td>26416.04</td>\n",
              "    </tr>\n",
              "    <tr>\n",
              "      <th>3</th>\n",
              "      <td>2019-03-13</td>\n",
              "      <td>OO</td>\n",
              "      <td>3809</td>\n",
              "      <td>CID</td>\n",
              "      <td>MSP</td>\n",
              "      <td>107.00</td>\n",
              "      <td>89.00</td>\n",
              "      <td>45.00</td>\n",
              "      <td>220.00</td>\n",
              "      <td>0.96</td>\n",
              "      <td>...</td>\n",
              "      <td>22.94</td>\n",
              "      <td>512.67</td>\n",
              "      <td>CID, MSP</td>\n",
              "      <td>-6397834700776843811</td>\n",
              "      <td>192.00</td>\n",
              "      <td>6720.00</td>\n",
              "      <td>34469.60</td>\n",
              "      <td>98432.64</td>\n",
              "      <td>105152.64</td>\n",
              "      <td>70683.04</td>\n",
              "    </tr>\n",
              "    <tr>\n",
              "      <th>4</th>\n",
              "      <td>2019-03-13</td>\n",
              "      <td>OO</td>\n",
              "      <td>4687</td>\n",
              "      <td>CID</td>\n",
              "      <td>MSP</td>\n",
              "      <td>325.00</td>\n",
              "      <td>312.00</td>\n",
              "      <td>46.00</td>\n",
              "      <td>220.00</td>\n",
              "      <td>0.60</td>\n",
              "      <td>...</td>\n",
              "      <td>22.94</td>\n",
              "      <td>512.67</td>\n",
              "      <td>CID, MSP</td>\n",
              "      <td>-6397834700776843811</td>\n",
              "      <td>120.00</td>\n",
              "      <td>4200.00</td>\n",
              "      <td>67544.60</td>\n",
              "      <td>61520.40</td>\n",
              "      <td>65720.40</td>\n",
              "      <td>-1824.20</td>\n",
              "    </tr>\n",
              "  </tbody>\n",
              "</table>\n",
              "<p>5 rows × 23 columns</p>\n",
              "</div>\n",
              "      <button class=\"colab-df-convert\" onclick=\"convertToInteractive('df-22a05bb5-2e46-4e90-9ab5-d372519897c1')\"\n",
              "              title=\"Convert this dataframe to an interactive table.\"\n",
              "              style=\"display:none;\">\n",
              "        \n",
              "  <svg xmlns=\"http://www.w3.org/2000/svg\" height=\"24px\"viewBox=\"0 0 24 24\"\n",
              "       width=\"24px\">\n",
              "    <path d=\"M0 0h24v24H0V0z\" fill=\"none\"/>\n",
              "    <path d=\"M18.56 5.44l.94 2.06.94-2.06 2.06-.94-2.06-.94-.94-2.06-.94 2.06-2.06.94zm-11 1L8.5 8.5l.94-2.06 2.06-.94-2.06-.94L8.5 2.5l-.94 2.06-2.06.94zm10 10l.94 2.06.94-2.06 2.06-.94-2.06-.94-.94-2.06-.94 2.06-2.06.94z\"/><path d=\"M17.41 7.96l-1.37-1.37c-.4-.4-.92-.59-1.43-.59-.52 0-1.04.2-1.43.59L10.3 9.45l-7.72 7.72c-.78.78-.78 2.05 0 2.83L4 21.41c.39.39.9.59 1.41.59.51 0 1.02-.2 1.41-.59l7.78-7.78 2.81-2.81c.8-.78.8-2.07 0-2.86zM5.41 20L4 18.59l7.72-7.72 1.47 1.35L5.41 20z\"/>\n",
              "  </svg>\n",
              "      </button>\n",
              "      \n",
              "  <style>\n",
              "    .colab-df-container {\n",
              "      display:flex;\n",
              "      flex-wrap:wrap;\n",
              "      gap: 12px;\n",
              "    }\n",
              "\n",
              "    .colab-df-convert {\n",
              "      background-color: #E8F0FE;\n",
              "      border: none;\n",
              "      border-radius: 50%;\n",
              "      cursor: pointer;\n",
              "      display: none;\n",
              "      fill: #1967D2;\n",
              "      height: 32px;\n",
              "      padding: 0 0 0 0;\n",
              "      width: 32px;\n",
              "    }\n",
              "\n",
              "    .colab-df-convert:hover {\n",
              "      background-color: #E2EBFA;\n",
              "      box-shadow: 0px 1px 2px rgba(60, 64, 67, 0.3), 0px 1px 3px 1px rgba(60, 64, 67, 0.15);\n",
              "      fill: #174EA6;\n",
              "    }\n",
              "\n",
              "    [theme=dark] .colab-df-convert {\n",
              "      background-color: #3B4455;\n",
              "      fill: #D2E3FC;\n",
              "    }\n",
              "\n",
              "    [theme=dark] .colab-df-convert:hover {\n",
              "      background-color: #434B5C;\n",
              "      box-shadow: 0px 1px 3px 1px rgba(0, 0, 0, 0.15);\n",
              "      filter: drop-shadow(0px 1px 2px rgba(0, 0, 0, 0.3));\n",
              "      fill: #FFFFFF;\n",
              "    }\n",
              "  </style>\n",
              "\n",
              "      <script>\n",
              "        const buttonEl =\n",
              "          document.querySelector('#df-22a05bb5-2e46-4e90-9ab5-d372519897c1 button.colab-df-convert');\n",
              "        buttonEl.style.display =\n",
              "          google.colab.kernel.accessAllowed ? 'block' : 'none';\n",
              "\n",
              "        async function convertToInteractive(key) {\n",
              "          const element = document.querySelector('#df-22a05bb5-2e46-4e90-9ab5-d372519897c1');\n",
              "          const dataTable =\n",
              "            await google.colab.kernel.invokeFunction('convertToInteractive',\n",
              "                                                     [key], {});\n",
              "          if (!dataTable) return;\n",
              "\n",
              "          const docLinkHtml = 'Like what you see? Visit the ' +\n",
              "            '<a target=\"_blank\" href=https://colab.research.google.com/notebooks/data_table.ipynb>data table notebook</a>'\n",
              "            + ' to learn more about interactive tables.';\n",
              "          element.innerHTML = '';\n",
              "          dataTable['output_type'] = 'display_data';\n",
              "          await google.colab.output.renderOutput(dataTable, element);\n",
              "          const docLink = document.createElement('div');\n",
              "          docLink.innerHTML = docLinkHtml;\n",
              "          element.appendChild(docLink);\n",
              "        }\n",
              "      </script>\n",
              "    </div>\n",
              "  </div>\n",
              "  "
            ]
          },
          "metadata": {},
          "execution_count": 342
        }
      ]
    },
    {
      "cell_type": "code",
      "source": [
        "''' function to calculate total delay '''\n",
        "\n",
        "def delay(arr_delay, dep_delay):\n",
        "  total_delay = 0\n",
        "\n",
        "  if arr_delay > 0:\n",
        "    total_delay += arr_delay\n",
        "\n",
        "  if dep_delay > 0:\n",
        "    total_delay += dep_delay\n",
        "\n",
        "  return total_delay   "
      ],
      "metadata": {
        "id": "RIqdO-nJFuug"
      },
      "execution_count": 343,
      "outputs": []
    },
    {
      "cell_type": "code",
      "source": [
        "''' adding total_delay information to flights_tickets dataframe '''\n",
        "\n",
        "\n",
        "flights_tickets['DELAY'] = flights_tickets.apply(lambda row: delay(\n",
        "     row['ARR_DELAY'],row['DEP_DELAY']), axis=1, meta=(None, 'float64'))"
      ],
      "metadata": {
        "id": "1qy2GWxPHd94"
      },
      "execution_count": 348,
      "outputs": []
    },
    {
      "cell_type": "code",
      "source": [
        "flights_tickets.head(5)"
      ],
      "metadata": {
        "colab": {
          "base_uri": "https://localhost:8080/",
          "height": 382
        },
        "id": "AicjvHaaniAK",
        "outputId": "2a78225f-9ba5-43ec-e296-efeba860be1d"
      },
      "execution_count": 349,
      "outputs": [
        {
          "output_type": "execute_result",
          "data": {
            "text/plain": [
              "     FL_DATE OP_CARRIER OP_CARRIER_FL_NUM ORIGIN DESTINATION  DEP_DELAY  \\\n",
              "0 2019-03-10         WN              3133    DEN         CLE      13.00   \n",
              "1 2019-03-10         WN              6557    DEN         CLE      25.00   \n",
              "2 2019-03-29         WN              2114    DEN         CLE       0.00   \n",
              "3 2019-03-25         WN              2114    DEN         CLE       0.00   \n",
              "4 2019-03-25         UA               364    DEN         CLE      -6.00   \n",
              "\n",
              "   ARR_DELAY  AIR_TIME  DISTANCE  OCCUPANCY_RATE  ...     ROUTE  \\\n",
              "0      -6.00    127.00   1201.00            0.43  ...  DEN, CLE   \n",
              "1       5.00    131.00   1201.00            0.56  ...  DEN, CLE   \n",
              "2      -9.00    140.00   1201.00            0.59  ...  DEN, CLE   \n",
              "3      -7.00    145.00   1201.00            0.58  ...  DEN, CLE   \n",
              "4     -23.00    141.00   1201.00            0.84  ...  DEN, CLE   \n",
              "\n",
              "                    ID  PASSENGER_COUNT  BAGGAGE_REVENUE  TOTAL_COSTS  \\\n",
              "0 -2535630527502168788            86.00          3010.00     31025.18   \n",
              "1 -2535630527502168788           112.00          3920.00     31775.18   \n",
              "2 -2535630527502168788           118.00          4130.00     31025.18   \n",
              "3 -2535630527502168788           116.00          4060.00     31025.18   \n",
              "4 -2535630527502168788           168.00          5880.00     31025.18   \n",
              "\n",
              "  TICKET_REVENUE  TOTAL_REVENUE   PROFIT  TOTAL_DELAY  DELAY  \n",
              "0       33410.14       36420.14  5394.96        13.00  13.00  \n",
              "1       43510.88       47430.88 15655.70        30.00  30.00  \n",
              "2       45841.82       49971.82 18946.64         0.00   0.00  \n",
              "3       45064.84       49124.84 18099.66         0.00   0.00  \n",
              "4       65266.32       71146.32 40121.14         0.00   0.00  \n",
              "\n",
              "[5 rows x 25 columns]"
            ],
            "text/html": [
              "\n",
              "  <div id=\"df-e49a7a12-ffdd-4081-a642-3a4e34789595\">\n",
              "    <div class=\"colab-df-container\">\n",
              "      <div>\n",
              "<style scoped>\n",
              "    .dataframe tbody tr th:only-of-type {\n",
              "        vertical-align: middle;\n",
              "    }\n",
              "\n",
              "    .dataframe tbody tr th {\n",
              "        vertical-align: top;\n",
              "    }\n",
              "\n",
              "    .dataframe thead th {\n",
              "        text-align: right;\n",
              "    }\n",
              "</style>\n",
              "<table border=\"1\" class=\"dataframe\">\n",
              "  <thead>\n",
              "    <tr style=\"text-align: right;\">\n",
              "      <th></th>\n",
              "      <th>FL_DATE</th>\n",
              "      <th>OP_CARRIER</th>\n",
              "      <th>OP_CARRIER_FL_NUM</th>\n",
              "      <th>ORIGIN</th>\n",
              "      <th>DESTINATION</th>\n",
              "      <th>DEP_DELAY</th>\n",
              "      <th>ARR_DELAY</th>\n",
              "      <th>AIR_TIME</th>\n",
              "      <th>DISTANCE</th>\n",
              "      <th>OCCUPANCY_RATE</th>\n",
              "      <th>...</th>\n",
              "      <th>ROUTE</th>\n",
              "      <th>ID</th>\n",
              "      <th>PASSENGER_COUNT</th>\n",
              "      <th>BAGGAGE_REVENUE</th>\n",
              "      <th>TOTAL_COSTS</th>\n",
              "      <th>TICKET_REVENUE</th>\n",
              "      <th>TOTAL_REVENUE</th>\n",
              "      <th>PROFIT</th>\n",
              "      <th>TOTAL_DELAY</th>\n",
              "      <th>DELAY</th>\n",
              "    </tr>\n",
              "  </thead>\n",
              "  <tbody>\n",
              "    <tr>\n",
              "      <th>0</th>\n",
              "      <td>2019-03-10</td>\n",
              "      <td>WN</td>\n",
              "      <td>3133</td>\n",
              "      <td>DEN</td>\n",
              "      <td>CLE</td>\n",
              "      <td>13.00</td>\n",
              "      <td>-6.00</td>\n",
              "      <td>127.00</td>\n",
              "      <td>1201.00</td>\n",
              "      <td>0.43</td>\n",
              "      <td>...</td>\n",
              "      <td>DEN, CLE</td>\n",
              "      <td>-2535630527502168788</td>\n",
              "      <td>86.00</td>\n",
              "      <td>3010.00</td>\n",
              "      <td>31025.18</td>\n",
              "      <td>33410.14</td>\n",
              "      <td>36420.14</td>\n",
              "      <td>5394.96</td>\n",
              "      <td>13.00</td>\n",
              "      <td>13.00</td>\n",
              "    </tr>\n",
              "    <tr>\n",
              "      <th>1</th>\n",
              "      <td>2019-03-10</td>\n",
              "      <td>WN</td>\n",
              "      <td>6557</td>\n",
              "      <td>DEN</td>\n",
              "      <td>CLE</td>\n",
              "      <td>25.00</td>\n",
              "      <td>5.00</td>\n",
              "      <td>131.00</td>\n",
              "      <td>1201.00</td>\n",
              "      <td>0.56</td>\n",
              "      <td>...</td>\n",
              "      <td>DEN, CLE</td>\n",
              "      <td>-2535630527502168788</td>\n",
              "      <td>112.00</td>\n",
              "      <td>3920.00</td>\n",
              "      <td>31775.18</td>\n",
              "      <td>43510.88</td>\n",
              "      <td>47430.88</td>\n",
              "      <td>15655.70</td>\n",
              "      <td>30.00</td>\n",
              "      <td>30.00</td>\n",
              "    </tr>\n",
              "    <tr>\n",
              "      <th>2</th>\n",
              "      <td>2019-03-29</td>\n",
              "      <td>WN</td>\n",
              "      <td>2114</td>\n",
              "      <td>DEN</td>\n",
              "      <td>CLE</td>\n",
              "      <td>0.00</td>\n",
              "      <td>-9.00</td>\n",
              "      <td>140.00</td>\n",
              "      <td>1201.00</td>\n",
              "      <td>0.59</td>\n",
              "      <td>...</td>\n",
              "      <td>DEN, CLE</td>\n",
              "      <td>-2535630527502168788</td>\n",
              "      <td>118.00</td>\n",
              "      <td>4130.00</td>\n",
              "      <td>31025.18</td>\n",
              "      <td>45841.82</td>\n",
              "      <td>49971.82</td>\n",
              "      <td>18946.64</td>\n",
              "      <td>0.00</td>\n",
              "      <td>0.00</td>\n",
              "    </tr>\n",
              "    <tr>\n",
              "      <th>3</th>\n",
              "      <td>2019-03-25</td>\n",
              "      <td>WN</td>\n",
              "      <td>2114</td>\n",
              "      <td>DEN</td>\n",
              "      <td>CLE</td>\n",
              "      <td>0.00</td>\n",
              "      <td>-7.00</td>\n",
              "      <td>145.00</td>\n",
              "      <td>1201.00</td>\n",
              "      <td>0.58</td>\n",
              "      <td>...</td>\n",
              "      <td>DEN, CLE</td>\n",
              "      <td>-2535630527502168788</td>\n",
              "      <td>116.00</td>\n",
              "      <td>4060.00</td>\n",
              "      <td>31025.18</td>\n",
              "      <td>45064.84</td>\n",
              "      <td>49124.84</td>\n",
              "      <td>18099.66</td>\n",
              "      <td>0.00</td>\n",
              "      <td>0.00</td>\n",
              "    </tr>\n",
              "    <tr>\n",
              "      <th>4</th>\n",
              "      <td>2019-03-25</td>\n",
              "      <td>UA</td>\n",
              "      <td>364</td>\n",
              "      <td>DEN</td>\n",
              "      <td>CLE</td>\n",
              "      <td>-6.00</td>\n",
              "      <td>-23.00</td>\n",
              "      <td>141.00</td>\n",
              "      <td>1201.00</td>\n",
              "      <td>0.84</td>\n",
              "      <td>...</td>\n",
              "      <td>DEN, CLE</td>\n",
              "      <td>-2535630527502168788</td>\n",
              "      <td>168.00</td>\n",
              "      <td>5880.00</td>\n",
              "      <td>31025.18</td>\n",
              "      <td>65266.32</td>\n",
              "      <td>71146.32</td>\n",
              "      <td>40121.14</td>\n",
              "      <td>0.00</td>\n",
              "      <td>0.00</td>\n",
              "    </tr>\n",
              "  </tbody>\n",
              "</table>\n",
              "<p>5 rows × 25 columns</p>\n",
              "</div>\n",
              "      <button class=\"colab-df-convert\" onclick=\"convertToInteractive('df-e49a7a12-ffdd-4081-a642-3a4e34789595')\"\n",
              "              title=\"Convert this dataframe to an interactive table.\"\n",
              "              style=\"display:none;\">\n",
              "        \n",
              "  <svg xmlns=\"http://www.w3.org/2000/svg\" height=\"24px\"viewBox=\"0 0 24 24\"\n",
              "       width=\"24px\">\n",
              "    <path d=\"M0 0h24v24H0V0z\" fill=\"none\"/>\n",
              "    <path d=\"M18.56 5.44l.94 2.06.94-2.06 2.06-.94-2.06-.94-.94-2.06-.94 2.06-2.06.94zm-11 1L8.5 8.5l.94-2.06 2.06-.94-2.06-.94L8.5 2.5l-.94 2.06-2.06.94zm10 10l.94 2.06.94-2.06 2.06-.94-2.06-.94-.94-2.06-.94 2.06-2.06.94z\"/><path d=\"M17.41 7.96l-1.37-1.37c-.4-.4-.92-.59-1.43-.59-.52 0-1.04.2-1.43.59L10.3 9.45l-7.72 7.72c-.78.78-.78 2.05 0 2.83L4 21.41c.39.39.9.59 1.41.59.51 0 1.02-.2 1.41-.59l7.78-7.78 2.81-2.81c.8-.78.8-2.07 0-2.86zM5.41 20L4 18.59l7.72-7.72 1.47 1.35L5.41 20z\"/>\n",
              "  </svg>\n",
              "      </button>\n",
              "      \n",
              "  <style>\n",
              "    .colab-df-container {\n",
              "      display:flex;\n",
              "      flex-wrap:wrap;\n",
              "      gap: 12px;\n",
              "    }\n",
              "\n",
              "    .colab-df-convert {\n",
              "      background-color: #E8F0FE;\n",
              "      border: none;\n",
              "      border-radius: 50%;\n",
              "      cursor: pointer;\n",
              "      display: none;\n",
              "      fill: #1967D2;\n",
              "      height: 32px;\n",
              "      padding: 0 0 0 0;\n",
              "      width: 32px;\n",
              "    }\n",
              "\n",
              "    .colab-df-convert:hover {\n",
              "      background-color: #E2EBFA;\n",
              "      box-shadow: 0px 1px 2px rgba(60, 64, 67, 0.3), 0px 1px 3px 1px rgba(60, 64, 67, 0.15);\n",
              "      fill: #174EA6;\n",
              "    }\n",
              "\n",
              "    [theme=dark] .colab-df-convert {\n",
              "      background-color: #3B4455;\n",
              "      fill: #D2E3FC;\n",
              "    }\n",
              "\n",
              "    [theme=dark] .colab-df-convert:hover {\n",
              "      background-color: #434B5C;\n",
              "      box-shadow: 0px 1px 3px 1px rgba(0, 0, 0, 0.15);\n",
              "      filter: drop-shadow(0px 1px 2px rgba(0, 0, 0, 0.3));\n",
              "      fill: #FFFFFF;\n",
              "    }\n",
              "  </style>\n",
              "\n",
              "      <script>\n",
              "        const buttonEl =\n",
              "          document.querySelector('#df-e49a7a12-ffdd-4081-a642-3a4e34789595 button.colab-df-convert');\n",
              "        buttonEl.style.display =\n",
              "          google.colab.kernel.accessAllowed ? 'block' : 'none';\n",
              "\n",
              "        async function convertToInteractive(key) {\n",
              "          const element = document.querySelector('#df-e49a7a12-ffdd-4081-a642-3a4e34789595');\n",
              "          const dataTable =\n",
              "            await google.colab.kernel.invokeFunction('convertToInteractive',\n",
              "                                                     [key], {});\n",
              "          if (!dataTable) return;\n",
              "\n",
              "          const docLinkHtml = 'Like what you see? Visit the ' +\n",
              "            '<a target=\"_blank\" href=https://colab.research.google.com/notebooks/data_table.ipynb>data table notebook</a>'\n",
              "            + ' to learn more about interactive tables.';\n",
              "          element.innerHTML = '';\n",
              "          dataTable['output_type'] = 'display_data';\n",
              "          await google.colab.output.renderOutput(dataTable, element);\n",
              "          const docLink = document.createElement('div');\n",
              "          docLink.innerHTML = docLinkHtml;\n",
              "          element.appendChild(docLink);\n",
              "        }\n",
              "      </script>\n",
              "    </div>\n",
              "  </div>\n",
              "  "
            ]
          },
          "metadata": {},
          "execution_count": 349
        }
      ]
    },
    {
      "cell_type": "code",
      "source": [
        "''' most profit least delay route finder function'''\n",
        "\n",
        "def most_prft_least_delay(flights_tickets):\n",
        "  delay_df = flights_tickets.groupby(['ID', 'ORIGIN', 'DESTINATION']).agg({\n",
        "    'PROFIT': 'sum', 'TOTAL_DELAY': 'sum', 'OP_CARRIER_FL_NUM': 'count'}).compute(\n",
        "                ).sort_values(by = ['PROFIT','TOTAL_DELAY'] \n",
        "                              ,ascending = [False, True]).reset_index()  \n",
        "  delay_df['TOTAL_FLIGHTS'] = delay_df.groupby('ID')['OP_CARRIER_FL_NUM'].transform('sum')\n",
        "  delay_df = delay_df.drop_duplicates(subset=['ID'])                                                  \n",
        "  delay_df.drop(columns = ['ID', 'OP_CARRIER_FL_NUM'], inplace = True)\n",
        "  return delay_df.nlargest(5, columns = ['PROFIT', 'TOTAL_DELAY'])"
      ],
      "metadata": {
        "id": "0K2HASqfoArh"
      },
      "execution_count": 376,
      "outputs": []
    },
    {
      "cell_type": "code",
      "source": [
        "recommnded_df = most_prft_least_delay(flights_tickets)"
      ],
      "metadata": {
        "id": "m4YybT1uH_kt"
      },
      "execution_count": 377,
      "outputs": []
    },
    {
      "cell_type": "code",
      "source": [
        "recommnded_df['NUM_TRIPS_REQ'] = (90000000/(recommnded_df['PROFIT']/recommnded_df['TOTAL_FLIGHTS'])).round(0)"
      ],
      "metadata": {
        "id": "bdpvaRlz5scu"
      },
      "execution_count": 387,
      "outputs": []
    },
    {
      "cell_type": "code",
      "source": [
        "recommnded_df "
      ],
      "metadata": {
        "colab": {
          "base_uri": "https://localhost:8080/",
          "height": 204
        },
        "id": "Qnh1UDGT6VB6",
        "outputId": "bac9292d-3c82-4c54-fe7d-0baa7b45e338"
      },
      "execution_count": 388,
      "outputs": [
        {
          "output_type": "execute_result",
          "data": {
            "text/plain": [
              "  ORIGIN DESTINATION       PROFIT  TOTAL_DELAY  TOTAL_FLIGHTS  NUM_TRIPS_REQ\n",
              "0    SLC         TWF 334877184.50      4503.00            580         156.00\n",
              "1    JFK         LAX 269231166.32     66100.00           6299        2106.00\n",
              "3    JFK         SFO 160137795.54     71178.00           3700        2079.00\n",
              "4    SFO         EWR 117891056.70     55030.00           2411        1841.00\n",
              "6    DCA         ORD  82952969.84     53511.00           3688        4001.00"
            ],
            "text/html": [
              "\n",
              "  <div id=\"df-e8f98022-de94-4033-b04d-248f698ab522\">\n",
              "    <div class=\"colab-df-container\">\n",
              "      <div>\n",
              "<style scoped>\n",
              "    .dataframe tbody tr th:only-of-type {\n",
              "        vertical-align: middle;\n",
              "    }\n",
              "\n",
              "    .dataframe tbody tr th {\n",
              "        vertical-align: top;\n",
              "    }\n",
              "\n",
              "    .dataframe thead th {\n",
              "        text-align: right;\n",
              "    }\n",
              "</style>\n",
              "<table border=\"1\" class=\"dataframe\">\n",
              "  <thead>\n",
              "    <tr style=\"text-align: right;\">\n",
              "      <th></th>\n",
              "      <th>ORIGIN</th>\n",
              "      <th>DESTINATION</th>\n",
              "      <th>PROFIT</th>\n",
              "      <th>TOTAL_DELAY</th>\n",
              "      <th>TOTAL_FLIGHTS</th>\n",
              "      <th>NUM_TRIPS_REQ</th>\n",
              "    </tr>\n",
              "  </thead>\n",
              "  <tbody>\n",
              "    <tr>\n",
              "      <th>0</th>\n",
              "      <td>SLC</td>\n",
              "      <td>TWF</td>\n",
              "      <td>334877184.50</td>\n",
              "      <td>4503.00</td>\n",
              "      <td>580</td>\n",
              "      <td>156.00</td>\n",
              "    </tr>\n",
              "    <tr>\n",
              "      <th>1</th>\n",
              "      <td>JFK</td>\n",
              "      <td>LAX</td>\n",
              "      <td>269231166.32</td>\n",
              "      <td>66100.00</td>\n",
              "      <td>6299</td>\n",
              "      <td>2106.00</td>\n",
              "    </tr>\n",
              "    <tr>\n",
              "      <th>3</th>\n",
              "      <td>JFK</td>\n",
              "      <td>SFO</td>\n",
              "      <td>160137795.54</td>\n",
              "      <td>71178.00</td>\n",
              "      <td>3700</td>\n",
              "      <td>2079.00</td>\n",
              "    </tr>\n",
              "    <tr>\n",
              "      <th>4</th>\n",
              "      <td>SFO</td>\n",
              "      <td>EWR</td>\n",
              "      <td>117891056.70</td>\n",
              "      <td>55030.00</td>\n",
              "      <td>2411</td>\n",
              "      <td>1841.00</td>\n",
              "    </tr>\n",
              "    <tr>\n",
              "      <th>6</th>\n",
              "      <td>DCA</td>\n",
              "      <td>ORD</td>\n",
              "      <td>82952969.84</td>\n",
              "      <td>53511.00</td>\n",
              "      <td>3688</td>\n",
              "      <td>4001.00</td>\n",
              "    </tr>\n",
              "  </tbody>\n",
              "</table>\n",
              "</div>\n",
              "      <button class=\"colab-df-convert\" onclick=\"convertToInteractive('df-e8f98022-de94-4033-b04d-248f698ab522')\"\n",
              "              title=\"Convert this dataframe to an interactive table.\"\n",
              "              style=\"display:none;\">\n",
              "        \n",
              "  <svg xmlns=\"http://www.w3.org/2000/svg\" height=\"24px\"viewBox=\"0 0 24 24\"\n",
              "       width=\"24px\">\n",
              "    <path d=\"M0 0h24v24H0V0z\" fill=\"none\"/>\n",
              "    <path d=\"M18.56 5.44l.94 2.06.94-2.06 2.06-.94-2.06-.94-.94-2.06-.94 2.06-2.06.94zm-11 1L8.5 8.5l.94-2.06 2.06-.94-2.06-.94L8.5 2.5l-.94 2.06-2.06.94zm10 10l.94 2.06.94-2.06 2.06-.94-2.06-.94-.94-2.06-.94 2.06-2.06.94z\"/><path d=\"M17.41 7.96l-1.37-1.37c-.4-.4-.92-.59-1.43-.59-.52 0-1.04.2-1.43.59L10.3 9.45l-7.72 7.72c-.78.78-.78 2.05 0 2.83L4 21.41c.39.39.9.59 1.41.59.51 0 1.02-.2 1.41-.59l7.78-7.78 2.81-2.81c.8-.78.8-2.07 0-2.86zM5.41 20L4 18.59l7.72-7.72 1.47 1.35L5.41 20z\"/>\n",
              "  </svg>\n",
              "      </button>\n",
              "      \n",
              "  <style>\n",
              "    .colab-df-container {\n",
              "      display:flex;\n",
              "      flex-wrap:wrap;\n",
              "      gap: 12px;\n",
              "    }\n",
              "\n",
              "    .colab-df-convert {\n",
              "      background-color: #E8F0FE;\n",
              "      border: none;\n",
              "      border-radius: 50%;\n",
              "      cursor: pointer;\n",
              "      display: none;\n",
              "      fill: #1967D2;\n",
              "      height: 32px;\n",
              "      padding: 0 0 0 0;\n",
              "      width: 32px;\n",
              "    }\n",
              "\n",
              "    .colab-df-convert:hover {\n",
              "      background-color: #E2EBFA;\n",
              "      box-shadow: 0px 1px 2px rgba(60, 64, 67, 0.3), 0px 1px 3px 1px rgba(60, 64, 67, 0.15);\n",
              "      fill: #174EA6;\n",
              "    }\n",
              "\n",
              "    [theme=dark] .colab-df-convert {\n",
              "      background-color: #3B4455;\n",
              "      fill: #D2E3FC;\n",
              "    }\n",
              "\n",
              "    [theme=dark] .colab-df-convert:hover {\n",
              "      background-color: #434B5C;\n",
              "      box-shadow: 0px 1px 3px 1px rgba(0, 0, 0, 0.15);\n",
              "      filter: drop-shadow(0px 1px 2px rgba(0, 0, 0, 0.3));\n",
              "      fill: #FFFFFF;\n",
              "    }\n",
              "  </style>\n",
              "\n",
              "      <script>\n",
              "        const buttonEl =\n",
              "          document.querySelector('#df-e8f98022-de94-4033-b04d-248f698ab522 button.colab-df-convert');\n",
              "        buttonEl.style.display =\n",
              "          google.colab.kernel.accessAllowed ? 'block' : 'none';\n",
              "\n",
              "        async function convertToInteractive(key) {\n",
              "          const element = document.querySelector('#df-e8f98022-de94-4033-b04d-248f698ab522');\n",
              "          const dataTable =\n",
              "            await google.colab.kernel.invokeFunction('convertToInteractive',\n",
              "                                                     [key], {});\n",
              "          if (!dataTable) return;\n",
              "\n",
              "          const docLinkHtml = 'Like what you see? Visit the ' +\n",
              "            '<a target=\"_blank\" href=https://colab.research.google.com/notebooks/data_table.ipynb>data table notebook</a>'\n",
              "            + ' to learn more about interactive tables.';\n",
              "          element.innerHTML = '';\n",
              "          dataTable['output_type'] = 'display_data';\n",
              "          await google.colab.output.renderOutput(dataTable, element);\n",
              "          const docLink = document.createElement('div');\n",
              "          docLink.innerHTML = docLinkHtml;\n",
              "          element.appendChild(docLink);\n",
              "        }\n",
              "      </script>\n",
              "    </div>\n",
              "  </div>\n",
              "  "
            ]
          },
          "metadata": {},
          "execution_count": 388
        }
      ]
    },
    {
      "cell_type": "code",
      "source": [
        "break_even = recommnded_df.drop(columns = ['PROFIT', 'TOTAL_DELAY', 'TOTAL_FLIGHTS'])"
      ],
      "metadata": {
        "id": "lfZSOUKi6ulo"
      },
      "execution_count": 385,
      "outputs": []
    },
    {
      "cell_type": "code",
      "source": [
        "break_even"
      ],
      "metadata": {
        "colab": {
          "base_uri": "https://localhost:8080/",
          "height": 204
        },
        "id": "dVbnV8Fg68JR",
        "outputId": "febbb4d8-8709-4628-d141-1ded74484ece"
      },
      "execution_count": 386,
      "outputs": [
        {
          "output_type": "execute_result",
          "data": {
            "text/plain": [
              "  ORIGIN DESTINATION  NUM_TRIPS_REQ\n",
              "0    SLC         TWF         156.00\n",
              "1    JFK         LAX        2106.00\n",
              "3    JFK         SFO        2079.00\n",
              "4    SFO         EWR        1841.00\n",
              "6    DCA         ORD        4001.00"
            ],
            "text/html": [
              "\n",
              "  <div id=\"df-95e10caa-b339-4609-8bdc-e26ac0d538fa\">\n",
              "    <div class=\"colab-df-container\">\n",
              "      <div>\n",
              "<style scoped>\n",
              "    .dataframe tbody tr th:only-of-type {\n",
              "        vertical-align: middle;\n",
              "    }\n",
              "\n",
              "    .dataframe tbody tr th {\n",
              "        vertical-align: top;\n",
              "    }\n",
              "\n",
              "    .dataframe thead th {\n",
              "        text-align: right;\n",
              "    }\n",
              "</style>\n",
              "<table border=\"1\" class=\"dataframe\">\n",
              "  <thead>\n",
              "    <tr style=\"text-align: right;\">\n",
              "      <th></th>\n",
              "      <th>ORIGIN</th>\n",
              "      <th>DESTINATION</th>\n",
              "      <th>NUM_TRIPS_REQ</th>\n",
              "    </tr>\n",
              "  </thead>\n",
              "  <tbody>\n",
              "    <tr>\n",
              "      <th>0</th>\n",
              "      <td>SLC</td>\n",
              "      <td>TWF</td>\n",
              "      <td>156.00</td>\n",
              "    </tr>\n",
              "    <tr>\n",
              "      <th>1</th>\n",
              "      <td>JFK</td>\n",
              "      <td>LAX</td>\n",
              "      <td>2106.00</td>\n",
              "    </tr>\n",
              "    <tr>\n",
              "      <th>3</th>\n",
              "      <td>JFK</td>\n",
              "      <td>SFO</td>\n",
              "      <td>2079.00</td>\n",
              "    </tr>\n",
              "    <tr>\n",
              "      <th>4</th>\n",
              "      <td>SFO</td>\n",
              "      <td>EWR</td>\n",
              "      <td>1841.00</td>\n",
              "    </tr>\n",
              "    <tr>\n",
              "      <th>6</th>\n",
              "      <td>DCA</td>\n",
              "      <td>ORD</td>\n",
              "      <td>4001.00</td>\n",
              "    </tr>\n",
              "  </tbody>\n",
              "</table>\n",
              "</div>\n",
              "      <button class=\"colab-df-convert\" onclick=\"convertToInteractive('df-95e10caa-b339-4609-8bdc-e26ac0d538fa')\"\n",
              "              title=\"Convert this dataframe to an interactive table.\"\n",
              "              style=\"display:none;\">\n",
              "        \n",
              "  <svg xmlns=\"http://www.w3.org/2000/svg\" height=\"24px\"viewBox=\"0 0 24 24\"\n",
              "       width=\"24px\">\n",
              "    <path d=\"M0 0h24v24H0V0z\" fill=\"none\"/>\n",
              "    <path d=\"M18.56 5.44l.94 2.06.94-2.06 2.06-.94-2.06-.94-.94-2.06-.94 2.06-2.06.94zm-11 1L8.5 8.5l.94-2.06 2.06-.94-2.06-.94L8.5 2.5l-.94 2.06-2.06.94zm10 10l.94 2.06.94-2.06 2.06-.94-2.06-.94-.94-2.06-.94 2.06-2.06.94z\"/><path d=\"M17.41 7.96l-1.37-1.37c-.4-.4-.92-.59-1.43-.59-.52 0-1.04.2-1.43.59L10.3 9.45l-7.72 7.72c-.78.78-.78 2.05 0 2.83L4 21.41c.39.39.9.59 1.41.59.51 0 1.02-.2 1.41-.59l7.78-7.78 2.81-2.81c.8-.78.8-2.07 0-2.86zM5.41 20L4 18.59l7.72-7.72 1.47 1.35L5.41 20z\"/>\n",
              "  </svg>\n",
              "      </button>\n",
              "      \n",
              "  <style>\n",
              "    .colab-df-container {\n",
              "      display:flex;\n",
              "      flex-wrap:wrap;\n",
              "      gap: 12px;\n",
              "    }\n",
              "\n",
              "    .colab-df-convert {\n",
              "      background-color: #E8F0FE;\n",
              "      border: none;\n",
              "      border-radius: 50%;\n",
              "      cursor: pointer;\n",
              "      display: none;\n",
              "      fill: #1967D2;\n",
              "      height: 32px;\n",
              "      padding: 0 0 0 0;\n",
              "      width: 32px;\n",
              "    }\n",
              "\n",
              "    .colab-df-convert:hover {\n",
              "      background-color: #E2EBFA;\n",
              "      box-shadow: 0px 1px 2px rgba(60, 64, 67, 0.3), 0px 1px 3px 1px rgba(60, 64, 67, 0.15);\n",
              "      fill: #174EA6;\n",
              "    }\n",
              "\n",
              "    [theme=dark] .colab-df-convert {\n",
              "      background-color: #3B4455;\n",
              "      fill: #D2E3FC;\n",
              "    }\n",
              "\n",
              "    [theme=dark] .colab-df-convert:hover {\n",
              "      background-color: #434B5C;\n",
              "      box-shadow: 0px 1px 3px 1px rgba(0, 0, 0, 0.15);\n",
              "      filter: drop-shadow(0px 1px 2px rgba(0, 0, 0, 0.3));\n",
              "      fill: #FFFFFF;\n",
              "    }\n",
              "  </style>\n",
              "\n",
              "      <script>\n",
              "        const buttonEl =\n",
              "          document.querySelector('#df-95e10caa-b339-4609-8bdc-e26ac0d538fa button.colab-df-convert');\n",
              "        buttonEl.style.display =\n",
              "          google.colab.kernel.accessAllowed ? 'block' : 'none';\n",
              "\n",
              "        async function convertToInteractive(key) {\n",
              "          const element = document.querySelector('#df-95e10caa-b339-4609-8bdc-e26ac0d538fa');\n",
              "          const dataTable =\n",
              "            await google.colab.kernel.invokeFunction('convertToInteractive',\n",
              "                                                     [key], {});\n",
              "          if (!dataTable) return;\n",
              "\n",
              "          const docLinkHtml = 'Like what you see? Visit the ' +\n",
              "            '<a target=\"_blank\" href=https://colab.research.google.com/notebooks/data_table.ipynb>data table notebook</a>'\n",
              "            + ' to learn more about interactive tables.';\n",
              "          element.innerHTML = '';\n",
              "          dataTable['output_type'] = 'display_data';\n",
              "          await google.colab.output.renderOutput(dataTable, element);\n",
              "          const docLink = document.createElement('div');\n",
              "          docLink.innerHTML = docLinkHtml;\n",
              "          element.appendChild(docLink);\n",
              "        }\n",
              "      </script>\n",
              "    </div>\n",
              "  </div>\n",
              "  "
            ]
          },
          "metadata": {},
          "execution_count": 386
        }
      ]
    },
    {
      "cell_type": "code",
      "source": [],
      "metadata": {
        "id": "8ltk84Th6873"
      },
      "execution_count": null,
      "outputs": []
    }
  ],
  "metadata": {
    "accelerator": "GPU",
    "colab": {
      "machine_shape": "hm",
      "provenance": [],
      "toc_visible": true
    },
    "gpuClass": "standard",
    "kernelspec": {
      "display_name": "Python 3",
      "name": "python3"
    },
    "language_info": {
      "name": "python"
    }
  },
  "nbformat": 4,
  "nbformat_minor": 0
}